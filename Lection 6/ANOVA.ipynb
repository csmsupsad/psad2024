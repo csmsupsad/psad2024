{
  "cells": [
    {
      "cell_type": "code",
      "execution_count": null,
      "metadata": {
        "id": "vVZ0txYf2oHa"
      },
      "outputs": [],
      "source": [
        "import pandas as pd\n",
        "import numpy as np\n",
        "import matplotlib.pyplot as plt\n",
        "import statsmodels.api as sm\n",
        "import scipy.stats as stats\n",
        "import seaborn as sns\n",
        "import pingouin as pg\n",
        "import statsmodels\n",
        "from statsmodels.stats.multicomp import pairwise_tukeyhsd\n",
        "%matplotlib inline"
      ]
    },
    {
      "cell_type": "markdown",
      "metadata": {
        "id": "gmmOo16v2oHc"
      },
      "source": [
        "# Рост певцов хора"
      ]
    },
    {
      "cell_type": "markdown",
      "metadata": {
        "id": "g-iCvj4m2oHc"
      },
      "source": [
        "В 1979 году было опрошено 235 членов нью-йоркской ассоциации хорового пения, для каждого из них известен рост и регистр голоса. Меняется ли средний рост вместе с регистром?"
      ]
    },
    {
      "cell_type": "code",
      "execution_count": null,
      "metadata": {
        "id": "sNiRZiKq2oHc"
      },
      "outputs": [],
      "source": [
        "singer = pd.read_csv('singer.csv', sep=',')"
      ]
    },
    {
      "cell_type": "code",
      "execution_count": null,
      "metadata": {
        "id": "PtCBVe9-2oHc",
        "outputId": "0ed811c9-f9c1-4282-bb75-35d9f1e9be0d"
      },
      "outputs": [
        {
          "data": {
            "text/html": [
              "<div>\n",
              "<style scoped>\n",
              "    .dataframe tbody tr th:only-of-type {\n",
              "        vertical-align: middle;\n",
              "    }\n",
              "\n",
              "    .dataframe tbody tr th {\n",
              "        vertical-align: top;\n",
              "    }\n",
              "\n",
              "    .dataframe thead th {\n",
              "        text-align: right;\n",
              "    }\n",
              "</style>\n",
              "<table border=\"1\" class=\"dataframe\">\n",
              "  <thead>\n",
              "    <tr style=\"text-align: right;\">\n",
              "      <th></th>\n",
              "      <th>height</th>\n",
              "      <th>voice.part</th>\n",
              "    </tr>\n",
              "  </thead>\n",
              "  <tbody>\n",
              "    <tr>\n",
              "      <th>0</th>\n",
              "      <td>64</td>\n",
              "      <td>Soprano 1</td>\n",
              "    </tr>\n",
              "    <tr>\n",
              "      <th>1</th>\n",
              "      <td>62</td>\n",
              "      <td>Soprano 1</td>\n",
              "    </tr>\n",
              "    <tr>\n",
              "      <th>2</th>\n",
              "      <td>66</td>\n",
              "      <td>Soprano 1</td>\n",
              "    </tr>\n",
              "    <tr>\n",
              "      <th>3</th>\n",
              "      <td>65</td>\n",
              "      <td>Soprano 1</td>\n",
              "    </tr>\n",
              "    <tr>\n",
              "      <th>4</th>\n",
              "      <td>60</td>\n",
              "      <td>Soprano 1</td>\n",
              "    </tr>\n",
              "  </tbody>\n",
              "</table>\n",
              "</div>"
            ],
            "text/plain": [
              "   height voice.part\n",
              "0      64  Soprano 1\n",
              "1      62  Soprano 1\n",
              "2      66  Soprano 1\n",
              "3      65  Soprano 1\n",
              "4      60  Soprano 1"
            ]
          },
          "execution_count": 44,
          "metadata": {},
          "output_type": "execute_result"
        }
      ],
      "source": [
        "singer.head()"
      ]
    },
    {
      "cell_type": "code",
      "execution_count": null,
      "metadata": {
        "id": "izMCdym12oHd",
        "outputId": "e079fda7-c95c-46d3-ad13-679c691c8119"
      },
      "outputs": [
        {
          "data": {
            "text/plain": [
              "array(['Soprano 1', 'Soprano 2', 'Alto 1', 'Alto 2', 'Tenor 1', 'Tenor 2',\n",
              "       'Bass 1', 'Bass 2'], dtype=object)"
            ]
          },
          "execution_count": 45,
          "metadata": {},
          "output_type": "execute_result"
        }
      ],
      "source": [
        "singer['voice.part'].unique()"
      ]
    },
    {
      "cell_type": "markdown",
      "metadata": {
        "id": "zwOFaE7x2oHd"
      },
      "source": [
        "Для удобства переведем рост респондентов из дюймов в сантиметры.\n",
        "Так как информация о регистре голоса является категориальным признаком, то переведем соответствующую колонку в соответствующий тип данных для удобства анализа."
      ]
    },
    {
      "cell_type": "code",
      "execution_count": null,
      "metadata": {
        "id": "0CJ9EXj-2oHd"
      },
      "outputs": [],
      "source": [
        "singer.height = singer.height*2.54\n",
        "singer['voice.part'] = singer['voice.part'].astype('category')"
      ]
    },
    {
      "cell_type": "markdown",
      "metadata": {
        "id": "3vKf--pC2oHe"
      },
      "source": [
        "Рассмотрим основные статистики и визуализируем распределение для каждого типа регистра голоса. Удобнее всего это сделать с помощью `describe()` и `boxplot`."
      ]
    },
    {
      "cell_type": "code",
      "execution_count": null,
      "metadata": {
        "id": "vlj-rGy72oHe",
        "outputId": "d06c2ba5-eacf-4bcb-bd2f-27025e006201"
      },
      "outputs": [
        {
          "data": {
            "text/html": [
              "<div>\n",
              "<style scoped>\n",
              "    .dataframe tbody tr th:only-of-type {\n",
              "        vertical-align: middle;\n",
              "    }\n",
              "\n",
              "    .dataframe tbody tr th {\n",
              "        vertical-align: top;\n",
              "    }\n",
              "\n",
              "    .dataframe thead tr th {\n",
              "        text-align: left;\n",
              "    }\n",
              "\n",
              "    .dataframe thead tr:last-of-type th {\n",
              "        text-align: right;\n",
              "    }\n",
              "</style>\n",
              "<table border=\"1\" class=\"dataframe\">\n",
              "  <thead>\n",
              "    <tr>\n",
              "      <th></th>\n",
              "      <th colspan=\"8\" halign=\"left\">height</th>\n",
              "    </tr>\n",
              "    <tr>\n",
              "      <th></th>\n",
              "      <th>count</th>\n",
              "      <th>mean</th>\n",
              "      <th>std</th>\n",
              "      <th>min</th>\n",
              "      <th>25%</th>\n",
              "      <th>50%</th>\n",
              "      <th>75%</th>\n",
              "      <th>max</th>\n",
              "    </tr>\n",
              "    <tr>\n",
              "      <th>voice.part</th>\n",
              "      <th></th>\n",
              "      <th></th>\n",
              "      <th></th>\n",
              "      <th></th>\n",
              "      <th></th>\n",
              "      <th></th>\n",
              "      <th></th>\n",
              "      <th></th>\n",
              "    </tr>\n",
              "  </thead>\n",
              "  <tbody>\n",
              "    <tr>\n",
              "      <th>Alto 1</th>\n",
              "      <td>35.0</td>\n",
              "      <td>164.809714</td>\n",
              "      <td>7.098418</td>\n",
              "      <td>152.40</td>\n",
              "      <td>160.020</td>\n",
              "      <td>165.10</td>\n",
              "      <td>168.910</td>\n",
              "      <td>182.88</td>\n",
              "    </tr>\n",
              "    <tr>\n",
              "      <th>Alto 2</th>\n",
              "      <td>27.0</td>\n",
              "      <td>167.734074</td>\n",
              "      <td>5.956057</td>\n",
              "      <td>160.02</td>\n",
              "      <td>162.560</td>\n",
              "      <td>167.64</td>\n",
              "      <td>170.180</td>\n",
              "      <td>177.80</td>\n",
              "    </tr>\n",
              "    <tr>\n",
              "      <th>Bass 1</th>\n",
              "      <td>39.0</td>\n",
              "      <td>179.623590</td>\n",
              "      <td>5.997977</td>\n",
              "      <td>167.64</td>\n",
              "      <td>175.260</td>\n",
              "      <td>180.34</td>\n",
              "      <td>182.880</td>\n",
              "      <td>190.50</td>\n",
              "    </tr>\n",
              "    <tr>\n",
              "      <th>Bass 2</th>\n",
              "      <td>26.0</td>\n",
              "      <td>181.316923</td>\n",
              "      <td>6.931061</td>\n",
              "      <td>167.64</td>\n",
              "      <td>177.800</td>\n",
              "      <td>182.88</td>\n",
              "      <td>187.960</td>\n",
              "      <td>190.50</td>\n",
              "    </tr>\n",
              "    <tr>\n",
              "      <th>Soprano 1</th>\n",
              "      <td>36.0</td>\n",
              "      <td>163.195000</td>\n",
              "      <td>4.756751</td>\n",
              "      <td>152.40</td>\n",
              "      <td>159.385</td>\n",
              "      <td>165.10</td>\n",
              "      <td>165.100</td>\n",
              "      <td>172.72</td>\n",
              "    </tr>\n",
              "    <tr>\n",
              "      <th>Soprano 2</th>\n",
              "      <td>30.0</td>\n",
              "      <td>162.475333</td>\n",
              "      <td>6.414775</td>\n",
              "      <td>152.40</td>\n",
              "      <td>157.480</td>\n",
              "      <td>162.56</td>\n",
              "      <td>167.005</td>\n",
              "      <td>177.80</td>\n",
              "    </tr>\n",
              "    <tr>\n",
              "      <th>Tenor 1</th>\n",
              "      <td>21.0</td>\n",
              "      <td>175.018095</td>\n",
              "      <td>8.458801</td>\n",
              "      <td>162.56</td>\n",
              "      <td>167.640</td>\n",
              "      <td>172.72</td>\n",
              "      <td>180.340</td>\n",
              "      <td>193.04</td>\n",
              "    </tr>\n",
              "    <tr>\n",
              "      <th>Tenor 2</th>\n",
              "      <td>21.0</td>\n",
              "      <td>177.558095</td>\n",
              "      <td>5.261220</td>\n",
              "      <td>167.64</td>\n",
              "      <td>175.260</td>\n",
              "      <td>175.26</td>\n",
              "      <td>180.340</td>\n",
              "      <td>193.04</td>\n",
              "    </tr>\n",
              "  </tbody>\n",
              "</table>\n",
              "</div>"
            ],
            "text/plain": [
              "           height                                                          \\\n",
              "            count        mean       std     min      25%     50%      75%   \n",
              "voice.part                                                                  \n",
              "Alto 1       35.0  164.809714  7.098418  152.40  160.020  165.10  168.910   \n",
              "Alto 2       27.0  167.734074  5.956057  160.02  162.560  167.64  170.180   \n",
              "Bass 1       39.0  179.623590  5.997977  167.64  175.260  180.34  182.880   \n",
              "Bass 2       26.0  181.316923  6.931061  167.64  177.800  182.88  187.960   \n",
              "Soprano 1    36.0  163.195000  4.756751  152.40  159.385  165.10  165.100   \n",
              "Soprano 2    30.0  162.475333  6.414775  152.40  157.480  162.56  167.005   \n",
              "Tenor 1      21.0  175.018095  8.458801  162.56  167.640  172.72  180.340   \n",
              "Tenor 2      21.0  177.558095  5.261220  167.64  175.260  175.26  180.340   \n",
              "\n",
              "                    \n",
              "               max  \n",
              "voice.part          \n",
              "Alto 1      182.88  \n",
              "Alto 2      177.80  \n",
              "Bass 1      190.50  \n",
              "Bass 2      190.50  \n",
              "Soprano 1   172.72  \n",
              "Soprano 2   177.80  \n",
              "Tenor 1     193.04  \n",
              "Tenor 2     193.04  "
            ]
          },
          "execution_count": 47,
          "metadata": {},
          "output_type": "execute_result"
        }
      ],
      "source": [
        "singer.groupby(\"voice.part\").describe()"
      ]
    },
    {
      "cell_type": "code",
      "execution_count": null,
      "metadata": {
        "id": "oZ2R4Gk42oHe",
        "outputId": "71722ff4-4bfd-4773-b148-2ebb21d91060"
      },
      "outputs": [
        {
          "data": {
            "image/png": "[encoded data removed]",
            "text/plain": [
              "<Figure size 720x720 with 1 Axes>"
            ]
          },
          "metadata": {
            "needs_background": "light"
          },
          "output_type": "display_data"
        }
      ],
      "source": [
        "fig, ax = plt.subplots(figsize=(10,10))\n",
        "sns.boxplot(x='voice.part', y='height', data=singer, ax=ax, medianprops=dict(color='blue', alpha=0.7));"
      ]
    },
    {
      "cell_type": "markdown",
      "metadata": {
        "id": "3RBadTRk2oHe"
      },
      "source": [
        "Визуально самый высокий рост наблюдается у людей с регистром голоса Bass. Alto и Soprano c более низким ростом. Причем отличия между типами регистра 1 и 2 не кажутся значительными."
      ]
    },
    {
      "cell_type": "markdown",
      "metadata": {
        "id": "9H6CkQ8w2oHf"
      },
      "source": [
        "Перед проверкой на равенство дисперсий и использованию ANOVA необходимо сделать проверку на нормальность. Посмотрим на распределение более подробно."
      ]
    },
    {
      "cell_type": "code",
      "execution_count": null,
      "metadata": {
        "id": "IHyFjvec2oHf",
        "outputId": "5aa270a8-d682-405e-8777-eb989cd81003"
      },
      "outputs": [
        {
          "data": {
            "image/png": "[encoded data removed]",
            "text/plain": [
              "<Figure size 1440x720 with 1 Axes>"
            ]
          },
          "metadata": {
            "needs_background": "light"
          },
          "output_type": "display_data"
        }
      ],
      "source": [
        "groups = singer.groupby(\"voice.part\")['height']\n",
        "fig, ax = plt.subplots(figsize=(20,10))\n",
        "\n",
        "for label, group in groups:\n",
        "    group.hist(label=label, alpha=0.5, ax=ax)\n",
        "\n",
        "ax.legend();"
      ]
    },
    {
      "cell_type": "code",
      "execution_count": null,
      "metadata": {
        "id": "rNis161P2oHf",
        "outputId": "2ec6948c-cbd8-49a7-ab49-8986880bf1ca"
      },
      "outputs": [
        {
          "data": {
            "image/png": "[encoded data removed]",
            "text/plain": [
              "<Figure size 1440x720 with 1 Axes>"
            ]
          },
          "metadata": {
            "needs_background": "light"
          },
          "output_type": "display_data"
        }
      ],
      "source": [
        "fig, ax = plt.subplots(figsize=(20,10))\n",
        "for label, group in groups:\n",
        "    sns.kdeplot(group, label = label, ax=ax, linewidth=3)\n",
        "    ax.legend()"
      ]
    },
    {
      "cell_type": "markdown",
      "metadata": {
        "id": "GGCgEFEC2oHf"
      },
      "source": [
        "Визуализации наших распределений, полученных с помощью ядерного сглаживания, дают нам информацию о том, что некоторые распределения могут быть не нормальными (видим ряд бимодальных распределений). Воспользуемся функцией `pg.normality` для теста на нормальность. Функция по дефолту использует тест Шапиро-Уилка."
      ]
    },
    {
      "cell_type": "code",
      "execution_count": null,
      "metadata": {
        "id": "E-RdwHVG2oHf",
        "outputId": "8281246b-b5b1-434b-b81e-189828531521"
      },
      "outputs": [
        {
          "data": {
            "text/html": [
              "<div>\n",
              "<style scoped>\n",
              "    .dataframe tbody tr th:only-of-type {\n",
              "        vertical-align: middle;\n",
              "    }\n",
              "\n",
              "    .dataframe tbody tr th {\n",
              "        vertical-align: top;\n",
              "    }\n",
              "\n",
              "    .dataframe thead th {\n",
              "        text-align: right;\n",
              "    }\n",
              "</style>\n",
              "<table border=\"1\" class=\"dataframe\">\n",
              "  <thead>\n",
              "    <tr style=\"text-align: right;\">\n",
              "      <th></th>\n",
              "      <th>W</th>\n",
              "      <th>pval</th>\n",
              "      <th>normal</th>\n",
              "    </tr>\n",
              "  </thead>\n",
              "  <tbody>\n",
              "    <tr>\n",
              "      <th>Soprano 1</th>\n",
              "      <td>0.901836</td>\n",
              "      <td>0.003832</td>\n",
              "      <td>False</td>\n",
              "    </tr>\n",
              "    <tr>\n",
              "      <th>Soprano 2</th>\n",
              "      <td>0.967122</td>\n",
              "      <td>0.463724</td>\n",
              "      <td>True</td>\n",
              "    </tr>\n",
              "    <tr>\n",
              "      <th>Alto 1</th>\n",
              "      <td>0.968387</td>\n",
              "      <td>0.400495</td>\n",
              "      <td>True</td>\n",
              "    </tr>\n",
              "    <tr>\n",
              "      <th>Alto 2</th>\n",
              "      <td>0.871288</td>\n",
              "      <td>0.003132</td>\n",
              "      <td>False</td>\n",
              "    </tr>\n",
              "    <tr>\n",
              "      <th>Tenor 1</th>\n",
              "      <td>0.965708</td>\n",
              "      <td>0.637467</td>\n",
              "      <td>True</td>\n",
              "    </tr>\n",
              "    <tr>\n",
              "      <th>Tenor 2</th>\n",
              "      <td>0.889947</td>\n",
              "      <td>0.022446</td>\n",
              "      <td>True</td>\n",
              "    </tr>\n",
              "    <tr>\n",
              "      <th>Bass 1</th>\n",
              "      <td>0.958989</td>\n",
              "      <td>0.164986</td>\n",
              "      <td>True</td>\n",
              "    </tr>\n",
              "    <tr>\n",
              "      <th>Bass 2</th>\n",
              "      <td>0.928962</td>\n",
              "      <td>0.073209</td>\n",
              "      <td>True</td>\n",
              "    </tr>\n",
              "  </tbody>\n",
              "</table>\n",
              "</div>"
            ],
            "text/plain": [
              "                  W      pval  normal\n",
              "Soprano 1  0.901836  0.003832   False\n",
              "Soprano 2  0.967122  0.463724    True\n",
              "Alto 1     0.968387  0.400495    True\n",
              "Alto 2     0.871288  0.003132   False\n",
              "Tenor 1    0.965708  0.637467    True\n",
              "Tenor 2    0.889947  0.022446    True\n",
              "Bass 1     0.958989  0.164986    True\n",
              "Bass 2     0.928962  0.073209    True"
            ]
          },
          "execution_count": 51,
          "metadata": {},
          "output_type": "execute_result"
        }
      ],
      "source": [
        "pg.normality(singer, dv=\"height\", group=\"voice.part\", alpha=0.01)"
      ]
    },
    {
      "cell_type": "markdown",
      "metadata": {
        "id": "Aw9eNGyH2oHg"
      },
      "source": [
        "-----\n",
        "Если данные не имеют Гаусcово распределение, то\n",
        "\n",
        "    1) можно воспользоваться преобразованием Бокса-Кокса:\n",
        "\n",
        "$y(\\lambda) = \\begin{cases}\n",
        "    (y^\\lambda-1)/\\lambda,& \\text{if } \\lambda\\neq 0\\\\\n",
        "    \\log y,              & \\text{if } \\lambda= 0\n",
        "\\end{cases}$\n",
        "\n",
        "    2) Воспользоваться критерием Краскела-Уоллиса\n",
        "\n",
        "    3) Придумать отговорку"
      ]
    },
    {
      "cell_type": "markdown",
      "metadata": {
        "id": "7BJ1K1Hi2oHg"
      },
      "source": [
        "Преобразование Бокса-Кокса мы пока подробно не рассматривали в нашем курсе, но давайте рассмотрим возможность его использования. Это нужно для демонстрации того, что даже специальная обработка данных не всегда может работать на ваших данных."
      ]
    },
    {
      "cell_type": "code",
      "execution_count": null,
      "metadata": {
        "id": "uBXl1XJv2oHg"
      },
      "outputs": [],
      "source": [
        "Soprano1, lmda, conf_int = stats.boxcox(singer.loc[singer['voice.part'] == 'Soprano 1'].height, alpha = 0.05)"
      ]
    },
    {
      "cell_type": "code",
      "execution_count": null,
      "metadata": {
        "id": "TizsyfOO2oHg",
        "outputId": "b8650b96-fb87-434d-cb27-e00d2a535c64"
      },
      "outputs": [
        {
          "data": {
            "image/png": "[encoded data removed]",
            "text/plain": [
              "<Figure size 432x288 with 1 Axes>"
            ]
          },
          "metadata": {
            "needs_background": "light"
          },
          "output_type": "display_data"
        }
      ],
      "source": [
        "sns.histplot(Soprano1, kde = True);"
      ]
    },
    {
      "cell_type": "markdown",
      "metadata": {
        "id": "F54cM04u2oHg"
      },
      "source": [
        "Так как преобразование Бокса-Кокса не сработало, то можем воспользоваться критерием Краскела-Уоллиса."
      ]
    },
    {
      "cell_type": "code",
      "execution_count": null,
      "metadata": {
        "id": "xrGNx9BB2oHg",
        "outputId": "00ac9b4d-276d-4e3a-faeb-95f97432bb37"
      },
      "outputs": [
        {
          "data": {
            "text/html": [
              "<div>\n",
              "<style scoped>\n",
              "    .dataframe tbody tr th:only-of-type {\n",
              "        vertical-align: middle;\n",
              "    }\n",
              "\n",
              "    .dataframe tbody tr th {\n",
              "        vertical-align: top;\n",
              "    }\n",
              "\n",
              "    .dataframe thead th {\n",
              "        text-align: right;\n",
              "    }\n",
              "</style>\n",
              "<table border=\"1\" class=\"dataframe\">\n",
              "  <thead>\n",
              "    <tr style=\"text-align: right;\">\n",
              "      <th></th>\n",
              "      <th>Source</th>\n",
              "      <th>ddof1</th>\n",
              "      <th>H</th>\n",
              "      <th>p-unc</th>\n",
              "    </tr>\n",
              "  </thead>\n",
              "  <tbody>\n",
              "    <tr>\n",
              "      <th>Kruskal</th>\n",
              "      <td>voice.part</td>\n",
              "      <td>7</td>\n",
              "      <td>141.836221</td>\n",
              "      <td>2.095721e-27</td>\n",
              "    </tr>\n",
              "  </tbody>\n",
              "</table>\n",
              "</div>"
            ],
            "text/plain": [
              "             Source  ddof1           H         p-unc\n",
              "Kruskal  voice.part      7  141.836221  2.095721e-27"
            ]
          },
          "execution_count": 55,
          "metadata": {},
          "output_type": "execute_result"
        }
      ],
      "source": [
        "pg.kruskal(singer, dv='height', between='voice.part')"
      ]
    },
    {
      "cell_type": "markdown",
      "metadata": {
        "id": "MGmbnz7I2oHg"
      },
      "source": [
        "Тогда нулевая гипотеза о том что распределения подвыборок имеют одинаковое смещение отвергается. Это означает, что наше разбиение по регистру голоса связано с ростом респондента."
      ]
    },
    {
      "cell_type": "markdown",
      "metadata": {
        "id": "iY_fJ7x42oHh"
      },
      "source": [
        "-----\n",
        "Для примера давайте проигнорируем информацию из тестов на нормальность и решим, что распределения Soprano 1 и Alto 2 все-таки являются нормальными (в домашних работах так делать не надо!).\n",
        "\n",
        "Тогда далее необходимо проверить гипотезу о равенстве дисперсий (Бартлетта) и в случае, если эта гипотеза не отвергается, воспользоваться нормальным однофакторным дисперсионным анализом для проверки гипотезы о равнестве всех средних.  "
      ]
    },
    {
      "cell_type": "code",
      "execution_count": null,
      "metadata": {
        "id": "JRxjOfXn2oHh",
        "outputId": "dcab1ced-488d-4404-9199-a30b0214ddc2"
      },
      "outputs": [
        {
          "data": {
            "text/html": [
              "<div>\n",
              "<style scoped>\n",
              "    .dataframe tbody tr th:only-of-type {\n",
              "        vertical-align: middle;\n",
              "    }\n",
              "\n",
              "    .dataframe tbody tr th {\n",
              "        vertical-align: top;\n",
              "    }\n",
              "\n",
              "    .dataframe thead th {\n",
              "        text-align: right;\n",
              "    }\n",
              "</style>\n",
              "<table border=\"1\" class=\"dataframe\">\n",
              "  <thead>\n",
              "    <tr style=\"text-align: right;\">\n",
              "      <th></th>\n",
              "      <th>T</th>\n",
              "      <th>pval</th>\n",
              "      <th>equal_var</th>\n",
              "    </tr>\n",
              "  </thead>\n",
              "  <tbody>\n",
              "    <tr>\n",
              "      <th>bartlett</th>\n",
              "      <td>11.736</td>\n",
              "      <td>0.109566</td>\n",
              "      <td>True</td>\n",
              "    </tr>\n",
              "  </tbody>\n",
              "</table>\n",
              "</div>"
            ],
            "text/plain": [
              "               T      pval  equal_var\n",
              "bartlett  11.736  0.109566       True"
            ]
          },
          "execution_count": 15,
          "metadata": {},
          "output_type": "execute_result"
        }
      ],
      "source": [
        "pg.homoscedasticity(singer,method='bartlett', dv='height', group='voice.part', alpha=0.05)"
      ]
    },
    {
      "cell_type": "markdown",
      "metadata": {
        "id": "rsQl4RrA2oHh"
      },
      "source": [
        "Нулевая гипотеза о равенстве дисперсий не отвергается, следовательно можем приступать к построению anova."
      ]
    },
    {
      "cell_type": "markdown",
      "metadata": {
        "id": "eHYbsPSI2oHh"
      },
      "source": [
        "----\n",
        "Если равенства дисперсий нет:\n",
        "\n",
        "   1) Воспользоваться критерием Краскела-Уоллиса\n",
        "    \n",
        "   2) Использовать `pg.welch_anova()` (https://www.researchgate.net/publication/228898214_How_to_keep_the_Type_I_Error_Rate_in_ANOVA_if_Variances_are_Heteroscedastic)\n",
        "____"
      ]
    },
    {
      "cell_type": "code",
      "execution_count": null,
      "metadata": {
        "id": "0bg0We_N2oHh",
        "outputId": "3eae3c31-11d9-4a55-8002-99d84a3e5eca"
      },
      "outputs": [
        {
          "data": {
            "text/html": [
              "<div>\n",
              "<style scoped>\n",
              "    .dataframe tbody tr th:only-of-type {\n",
              "        vertical-align: middle;\n",
              "    }\n",
              "\n",
              "    .dataframe tbody tr th {\n",
              "        vertical-align: top;\n",
              "    }\n",
              "\n",
              "    .dataframe thead th {\n",
              "        text-align: right;\n",
              "    }\n",
              "</style>\n",
              "<table border=\"1\" class=\"dataframe\">\n",
              "  <thead>\n",
              "    <tr style=\"text-align: right;\">\n",
              "      <th></th>\n",
              "      <th>Source</th>\n",
              "      <th>ddof1</th>\n",
              "      <th>ddof2</th>\n",
              "      <th>F</th>\n",
              "      <th>p-unc</th>\n",
              "      <th>np2</th>\n",
              "    </tr>\n",
              "  </thead>\n",
              "  <tbody>\n",
              "    <tr>\n",
              "      <th>0</th>\n",
              "      <td>voice.part</td>\n",
              "      <td>7</td>\n",
              "      <td>227</td>\n",
              "      <td>45.641891</td>\n",
              "      <td>5.617050e-40</td>\n",
              "      <td>0.584624</td>\n",
              "    </tr>\n",
              "  </tbody>\n",
              "</table>\n",
              "</div>"
            ],
            "text/plain": [
              "       Source  ddof1  ddof2          F         p-unc       np2\n",
              "0  voice.part      7    227  45.641891  5.617050e-40  0.584624"
            ]
          },
          "execution_count": 66,
          "metadata": {},
          "output_type": "execute_result"
        }
      ],
      "source": [
        "pg.anova(dv='height', between='voice.part', data=singer)"
      ]
    },
    {
      "cell_type": "markdown",
      "metadata": {
        "id": "OemgMd3o2oHh"
      },
      "source": [
        "ddof1 - межгрупповаое кол-во степеней свободы (кол-во категориальных признаков - 1)\n",
        "\n",
        "ddof2 - внутригупповое кол-во степеней свободы (кол-во респондентов - кол-во категориальных признаков)\n",
        "\n",
        "F - значение статистики теста Фишера\n",
        "\n",
        "p-unc - нескорректированное p-значение\n",
        "\n",
        "np2 - частичный эта-квадрата, это доля дисперсии, которую объясняет переменная(общая дисперсия минус дисперсия, объясненная другими переменными). Значение  показателя находится в диапазоне от 0 до 1. Если значение близко к 1, то данная переменная объясняет высокую долю дисперсии."
      ]
    },
    {
      "cell_type": "markdown",
      "metadata": {
        "id": "jkswN0dV2oHi"
      },
      "source": [
        "Нулевая гипотеза о равенстве средних отвергается, то есть вывод остается прежним. Однако чем менее нормальны наши распределения для подвыборок, тем более вероятно отвержение нулевой гипотезы в нашем тесте. Поэтому необходимо всегда учитывать нормальность и не использовать anova на данных имеющих ненормальное распределение."
      ]
    },
    {
      "cell_type": "markdown",
      "metadata": {
        "id": "PwzhNdVJ2oHi"
      },
      "source": [
        "Если нас интересует информация об остатках, то мы можем вывести ее с помощью настройки `detailed=True`"
      ]
    },
    {
      "cell_type": "code",
      "execution_count": null,
      "metadata": {
        "id": "lwv8lJv_2oHi",
        "outputId": "0a2f50ae-51a7-4105-80df-d189313bd1f1"
      },
      "outputs": [
        {
          "data": {
            "text/html": [
              "<div>\n",
              "<style scoped>\n",
              "    .dataframe tbody tr th:only-of-type {\n",
              "        vertical-align: middle;\n",
              "    }\n",
              "\n",
              "    .dataframe tbody tr th {\n",
              "        vertical-align: top;\n",
              "    }\n",
              "\n",
              "    .dataframe thead th {\n",
              "        text-align: right;\n",
              "    }\n",
              "</style>\n",
              "<table border=\"1\" class=\"dataframe\">\n",
              "  <thead>\n",
              "    <tr style=\"text-align: right;\">\n",
              "      <th></th>\n",
              "      <th>Source</th>\n",
              "      <th>SS</th>\n",
              "      <th>DF</th>\n",
              "      <th>MS</th>\n",
              "      <th>F</th>\n",
              "      <th>p-unc</th>\n",
              "      <th>np2</th>\n",
              "    </tr>\n",
              "  </thead>\n",
              "  <tbody>\n",
              "    <tr>\n",
              "      <th>0</th>\n",
              "      <td>voice.part</td>\n",
              "      <td>12911.303982</td>\n",
              "      <td>7</td>\n",
              "      <td>1844.471997</td>\n",
              "      <td>45.641891</td>\n",
              "      <td>5.617050e-40</td>\n",
              "      <td>0.584624</td>\n",
              "    </tr>\n",
              "    <tr>\n",
              "      <th>1</th>\n",
              "      <td>Within</td>\n",
              "      <td>9173.483695</td>\n",
              "      <td>227</td>\n",
              "      <td>40.411822</td>\n",
              "      <td>NaN</td>\n",
              "      <td>NaN</td>\n",
              "      <td>NaN</td>\n",
              "    </tr>\n",
              "  </tbody>\n",
              "</table>\n",
              "</div>"
            ],
            "text/plain": [
              "       Source            SS   DF           MS          F         p-unc  \\\n",
              "0  voice.part  12911.303982    7  1844.471997  45.641891  5.617050e-40   \n",
              "1      Within   9173.483695  227    40.411822        NaN           NaN   \n",
              "\n",
              "        np2  \n",
              "0  0.584624  \n",
              "1       NaN  "
            ]
          },
          "execution_count": 69,
          "metadata": {},
          "output_type": "execute_result"
        }
      ],
      "source": [
        "pg.anova(dv='height', between='voice.part', data=singer, detailed=True)"
      ]
    },
    {
      "cell_type": "markdown",
      "metadata": {
        "id": "tjzbghqh2oHi"
      },
      "source": [
        "Within - остатки, то есть отличия объекта от собственной группы.\n",
        "\n",
        "SS - сумма квадратов отклонений  \n",
        "MS - среднее значение квадрата отклонений  "
      ]
    },
    {
      "cell_type": "markdown",
      "metadata": {
        "id": "By87XswK2oHi"
      },
      "source": [
        "# Влияние витамина C на рост зубов морских свинок"
      ]
    },
    {
      "cell_type": "markdown",
      "metadata": {
        "id": "wDD-5k612oHi"
      },
      "source": [
        "В эксперименте изучалось влияние витамина C на рост одонтобластов морских свинок.  \n",
        "\n",
        "Рассматривалось три дозы витамина (0.5, 1 и 2 мг) и два способа его приёма (апельсиновый сок и аскорбиновая кислота). В каждой из 6 групп по уровням двух факторов были произведены измерения для 10 морских свинок."
      ]
    },
    {
      "cell_type": "code",
      "execution_count": null,
      "metadata": {
        "id": "tyY2lgoI2oHi"
      },
      "outputs": [],
      "source": [
        "ToothGrowth = pd.read_csv('ToothGrowth.csv', sep=',')\n",
        "ToothGrowth['dose'] = ToothGrowth['dose'].astype('category')\n",
        "ToothGrowth['supp'] = ToothGrowth['supp'].astype('category')"
      ]
    },
    {
      "cell_type": "markdown",
      "metadata": {
        "id": "sVE2kqL32oHj"
      },
      "source": [
        "Так как у нас мало данных внутри каждой группы (10 наблюдений) и ни один из тестов не обладает достаточной мощностью чтобы говорить о нормальности малой выборки, то будем исходить из предположения, что наши данные имеют нормальное распределение."
      ]
    },
    {
      "cell_type": "markdown",
      "metadata": {
        "id": "s9EN-0ou2oHn"
      },
      "source": [
        "Как обычно - сначала исследуем распределение наших данных."
      ]
    },
    {
      "cell_type": "code",
      "execution_count": null,
      "metadata": {
        "id": "cf_ltVrb2oHn",
        "outputId": "e4aee058-35dd-4ca1-815b-dd2269846a9b"
      },
      "outputs": [
        {
          "data": {
            "text/html": [
              "<div>\n",
              "<style scoped>\n",
              "    .dataframe tbody tr th:only-of-type {\n",
              "        vertical-align: middle;\n",
              "    }\n",
              "\n",
              "    .dataframe tbody tr th {\n",
              "        vertical-align: top;\n",
              "    }\n",
              "\n",
              "    .dataframe thead th {\n",
              "        text-align: right;\n",
              "    }\n",
              "</style>\n",
              "<table border=\"1\" class=\"dataframe\">\n",
              "  <thead>\n",
              "    <tr style=\"text-align: right;\">\n",
              "      <th></th>\n",
              "      <th>len</th>\n",
              "    </tr>\n",
              "  </thead>\n",
              "  <tbody>\n",
              "    <tr>\n",
              "      <th>count</th>\n",
              "      <td>60.000000</td>\n",
              "    </tr>\n",
              "    <tr>\n",
              "      <th>mean</th>\n",
              "      <td>18.813333</td>\n",
              "    </tr>\n",
              "    <tr>\n",
              "      <th>std</th>\n",
              "      <td>7.649315</td>\n",
              "    </tr>\n",
              "    <tr>\n",
              "      <th>min</th>\n",
              "      <td>4.200000</td>\n",
              "    </tr>\n",
              "    <tr>\n",
              "      <th>25%</th>\n",
              "      <td>13.075000</td>\n",
              "    </tr>\n",
              "    <tr>\n",
              "      <th>50%</th>\n",
              "      <td>19.250000</td>\n",
              "    </tr>\n",
              "    <tr>\n",
              "      <th>75%</th>\n",
              "      <td>25.275000</td>\n",
              "    </tr>\n",
              "    <tr>\n",
              "      <th>max</th>\n",
              "      <td>33.900000</td>\n",
              "    </tr>\n",
              "  </tbody>\n",
              "</table>\n",
              "</div>"
            ],
            "text/plain": [
              "             len\n",
              "count  60.000000\n",
              "mean   18.813333\n",
              "std     7.649315\n",
              "min     4.200000\n",
              "25%    13.075000\n",
              "50%    19.250000\n",
              "75%    25.275000\n",
              "max    33.900000"
            ]
          },
          "execution_count": 74,
          "metadata": {},
          "output_type": "execute_result"
        }
      ],
      "source": [
        "ToothGrowth.describe()"
      ]
    },
    {
      "cell_type": "code",
      "execution_count": null,
      "metadata": {
        "id": "UzdCaptr2oHn",
        "outputId": "c0f99edb-e4e3-4d4a-aca9-2cdd41098489"
      },
      "outputs": [
        {
          "data": {
            "image/png": "[encoded data removed]",
            "text/plain": [
              "<Figure size 432x288 with 1 Axes>"
            ]
          },
          "metadata": {
            "needs_background": "light"
          },
          "output_type": "display_data"
        }
      ],
      "source": [
        "sns.boxplot(x='supp', y='len',data=ToothGrowth);"
      ]
    },
    {
      "cell_type": "markdown",
      "metadata": {
        "id": "SviLuIpS2oHn"
      },
      "source": [
        "Значимого отличия в среднем в целом не наблюдается для морских свинок с разными способами приема лекарства."
      ]
    },
    {
      "cell_type": "code",
      "execution_count": null,
      "metadata": {
        "id": "CjWrrZjk2oHn",
        "outputId": "c94bde30-fe61-432b-bff9-4530e0bd1e7a"
      },
      "outputs": [
        {
          "data": {
            "image/png": "[encoded data removed]",
            "text/plain": [
              "<Figure size 432x288 with 1 Axes>"
            ]
          },
          "metadata": {
            "needs_background": "light"
          },
          "output_type": "display_data"
        }
      ],
      "source": [
        "sns.boxplot(x='dose', y='len',data=ToothGrowth);"
      ]
    },
    {
      "cell_type": "markdown",
      "metadata": {
        "id": "16CADHoW2oHn"
      },
      "source": [
        "Однако доза лекарства показывает нам, что рост одонтобластов зависит от кол-ва принимаемого лекарства."
      ]
    },
    {
      "cell_type": "markdown",
      "metadata": {
        "id": "cAgIkBYh2oHo"
      },
      "source": [
        "Применим нормальный двухфакторный дисперсионный анализ учетом межфакторного взаимодействия. То есть нас интересует влияет ли доза  и способ приема в совокупности."
      ]
    },
    {
      "cell_type": "code",
      "execution_count": null,
      "metadata": {
        "id": "YkodvQ-J2oHo",
        "outputId": "65413514-2192-41a1-a6cb-503c3334c995"
      },
      "outputs": [
        {
          "data": {
            "text/html": [
              "<div>\n",
              "<style scoped>\n",
              "    .dataframe tbody tr th:only-of-type {\n",
              "        vertical-align: middle;\n",
              "    }\n",
              "\n",
              "    .dataframe tbody tr th {\n",
              "        vertical-align: top;\n",
              "    }\n",
              "\n",
              "    .dataframe thead th {\n",
              "        text-align: right;\n",
              "    }\n",
              "</style>\n",
              "<table border=\"1\" class=\"dataframe\">\n",
              "  <thead>\n",
              "    <tr style=\"text-align: right;\">\n",
              "      <th></th>\n",
              "      <th>Source</th>\n",
              "      <th>SS</th>\n",
              "      <th>DF</th>\n",
              "      <th>MS</th>\n",
              "      <th>F</th>\n",
              "      <th>p-unc</th>\n",
              "      <th>np2</th>\n",
              "    </tr>\n",
              "  </thead>\n",
              "  <tbody>\n",
              "    <tr>\n",
              "      <th>0</th>\n",
              "      <td>dose</td>\n",
              "      <td>2426.434</td>\n",
              "      <td>2</td>\n",
              "      <td>1213.217</td>\n",
              "      <td>91.999952</td>\n",
              "      <td>4.046303e-18</td>\n",
              "      <td>0.773109</td>\n",
              "    </tr>\n",
              "    <tr>\n",
              "      <th>1</th>\n",
              "      <td>supp</td>\n",
              "      <td>205.350</td>\n",
              "      <td>1</td>\n",
              "      <td>205.350</td>\n",
              "      <td>15.571979</td>\n",
              "      <td>2.311828e-04</td>\n",
              "      <td>0.223825</td>\n",
              "    </tr>\n",
              "    <tr>\n",
              "      <th>2</th>\n",
              "      <td>dose * supp</td>\n",
              "      <td>108.319</td>\n",
              "      <td>2</td>\n",
              "      <td>54.160</td>\n",
              "      <td>4.107004</td>\n",
              "      <td>2.186003e-02</td>\n",
              "      <td>0.132028</td>\n",
              "    </tr>\n",
              "    <tr>\n",
              "      <th>3</th>\n",
              "      <td>Residual</td>\n",
              "      <td>712.106</td>\n",
              "      <td>54</td>\n",
              "      <td>13.187</td>\n",
              "      <td>NaN</td>\n",
              "      <td>NaN</td>\n",
              "      <td>NaN</td>\n",
              "    </tr>\n",
              "  </tbody>\n",
              "</table>\n",
              "</div>"
            ],
            "text/plain": [
              "        Source        SS  DF        MS          F         p-unc       np2\n",
              "0         dose  2426.434   2  1213.217  91.999952  4.046303e-18  0.773109\n",
              "1         supp   205.350   1   205.350  15.571979  2.311828e-04  0.223825\n",
              "2  dose * supp   108.319   2    54.160   4.107004  2.186003e-02  0.132028\n",
              "3     Residual   712.106  54    13.187        NaN           NaN       NaN"
            ]
          },
          "execution_count": 22,
          "metadata": {},
          "output_type": "execute_result"
        }
      ],
      "source": [
        "pg.anova(dv='len', between=['dose', 'supp'], data=ToothGrowth,detailed=True)"
      ]
    },
    {
      "cell_type": "markdown",
      "metadata": {
        "id": "_zf5BDpu2oHo"
      },
      "source": [
        "Все исследуемые нами факторы значимо влияют на рост одонтобластов. Причем доза препарата значительно больше объясняет общую дисперсию, из которой иключено влияние других показателей (np2 очень близок к 1)."
      ]
    },
    {
      "cell_type": "markdown",
      "metadata": {
        "id": "Ec0g4sfs2oHo"
      },
      "source": [
        "Межфакторное взаимодействие можно неплохо визуализировать для более-менее простых случаев c помощью команды interaction_plot. Получите графики зависимостей, если по оси x откладывать supp и если по оси x откладывать dose. Проинтерпретируйте полученные зависимости."
      ]
    },
    {
      "cell_type": "code",
      "execution_count": null,
      "metadata": {
        "id": "OWuMesrL2oHo",
        "outputId": "594d534d-26db-4431-e346-9018a01cfa45"
      },
      "outputs": [
        {
          "data": {
            "image/png": "[encoded data removed]",
            "text/plain": [
              "<Figure size 432x288 with 1 Axes>"
            ]
          },
          "metadata": {
            "needs_background": "light"
          },
          "output_type": "display_data"
        }
      ],
      "source": [
        "statsmodels.graphics.factorplots.interaction_plot(ToothGrowth['dose'],\n",
        "                                                  ToothGrowth['supp'],\n",
        "                                                  ToothGrowth['len'],\n",
        "                                                  colors=['red','blue'],\n",
        "                                                  markers=['D','^'])\n",
        "plt.show()"
      ]
    },
    {
      "cell_type": "markdown",
      "metadata": {
        "id": "LoRLp09Z2oHo"
      },
      "source": [
        "Для воможности визуализации переведем способ приема в бинарный вид."
      ]
    },
    {
      "cell_type": "code",
      "execution_count": null,
      "metadata": {
        "id": "kjKTXhhd2oHp"
      },
      "outputs": [],
      "source": [
        "ToothGrowth['supp_codes'] = ToothGrowth['supp'].cat.codes"
      ]
    },
    {
      "cell_type": "code",
      "execution_count": null,
      "metadata": {
        "id": "sNnSl-Hn2oHp",
        "outputId": "89066855-1ad6-4df7-ced4-6bd4f3765f98"
      },
      "outputs": [
        {
          "data": {
            "image/png": "[encoded data removed]",
            "text/plain": [
              "<Figure size 432x288 with 1 Axes>"
            ]
          },
          "metadata": {
            "needs_background": "light"
          },
          "output_type": "display_data"
        }
      ],
      "source": [
        "statsmodels.graphics.factorplots.interaction_plot(ToothGrowth['supp_codes'],\n",
        "                                                  ToothGrowth['dose'],\n",
        "                                                  ToothGrowth['len'],\n",
        "                                                  colors=['red','blue', 'green'],\n",
        "                                                  markers=['D','^', '*'])\n",
        "plt.show()"
      ]
    },
    {
      "cell_type": "markdown",
      "metadata": {
        "id": "p4q1N0cm2oHp"
      },
      "source": [
        "Взаимодействие значимо, поэтому разделим выборку по способу приёма витамина (колонка supp). Если бы взаимодействие не было значимым, то мы бы увидели параллельные друг другу линии на графике."
      ]
    },
    {
      "cell_type": "code",
      "execution_count": null,
      "metadata": {
        "id": "KjT9n2172oHp"
      },
      "outputs": [],
      "source": [
        "OJ = ToothGrowth[ToothGrowth.supp == 'OJ']\n",
        "VC = ToothGrowth[ToothGrowth.supp == 'VC']"
      ]
    },
    {
      "cell_type": "markdown",
      "metadata": {
        "id": "1Pj32w3B2oHp"
      },
      "source": [
        "Проведите дисперсионный анализ внутри каждой из групп:  \n",
        "\n",
        "- Для морских свинок, принимающих аскорбиновую кислоту  \n",
        "\n",
        "- Для морских свинок, принимающих апельсиновый сок\n",
        "\n",
        "Вам нужно  \n",
        "\n",
        "- Построить график зависимостей len ~ dose\n",
        "\n",
        "- Построить anova модель len ~ dose. Посмотреть на вывод summary\n",
        "\n",
        "- Провести тест kruskal\n",
        "\n",
        "- Сделать выводы по для каждой из групп свинок"
      ]
    },
    {
      "cell_type": "markdown",
      "metadata": {
        "id": "egwlUZVz2oHp"
      },
      "source": [
        "## Для морских свинок, принимающих аскорбиновую кислоту:"
      ]
    },
    {
      "cell_type": "code",
      "execution_count": null,
      "metadata": {
        "id": "y_133lit2oHp",
        "outputId": "689ee70c-d13d-4669-bf2b-89f2f501097a"
      },
      "outputs": [
        {
          "data": {
            "text/plain": [
              "<AxesSubplot:xlabel='dose', ylabel='len'>"
            ]
          },
          "execution_count": 94,
          "metadata": {},
          "output_type": "execute_result"
        },
        {
          "data": {
            "image/png": "[encoded data removed]",
            "text/plain": [
              "<Figure size 432x288 with 1 Axes>"
            ]
          },
          "metadata": {
            "needs_background": "light"
          },
          "output_type": "display_data"
        }
      ],
      "source": [
        "sns.boxplot(x='dose', y='len',data=VC)"
      ]
    },
    {
      "cell_type": "code",
      "execution_count": null,
      "metadata": {
        "id": "U4N_xiML2oHq",
        "outputId": "9a7cd386-1fdd-4f99-9478-ac86f8b48db4"
      },
      "outputs": [
        {
          "data": {
            "text/html": [
              "<div>\n",
              "<style scoped>\n",
              "    .dataframe tbody tr th:only-of-type {\n",
              "        vertical-align: middle;\n",
              "    }\n",
              "\n",
              "    .dataframe tbody tr th {\n",
              "        vertical-align: top;\n",
              "    }\n",
              "\n",
              "    .dataframe thead th {\n",
              "        text-align: right;\n",
              "    }\n",
              "</style>\n",
              "<table border=\"1\" class=\"dataframe\">\n",
              "  <thead>\n",
              "    <tr style=\"text-align: right;\">\n",
              "      <th></th>\n",
              "      <th>Source</th>\n",
              "      <th>SS</th>\n",
              "      <th>DF</th>\n",
              "      <th>MS</th>\n",
              "      <th>F</th>\n",
              "      <th>p-unc</th>\n",
              "      <th>np2</th>\n",
              "    </tr>\n",
              "  </thead>\n",
              "  <tbody>\n",
              "    <tr>\n",
              "      <th>0</th>\n",
              "      <td>dose</td>\n",
              "      <td>1649.488667</td>\n",
              "      <td>2</td>\n",
              "      <td>824.744333</td>\n",
              "      <td>67.072379</td>\n",
              "      <td>3.357317e-11</td>\n",
              "      <td>0.832449</td>\n",
              "    </tr>\n",
              "    <tr>\n",
              "      <th>1</th>\n",
              "      <td>Within</td>\n",
              "      <td>332.001000</td>\n",
              "      <td>27</td>\n",
              "      <td>12.296333</td>\n",
              "      <td>NaN</td>\n",
              "      <td>NaN</td>\n",
              "      <td>NaN</td>\n",
              "    </tr>\n",
              "  </tbody>\n",
              "</table>\n",
              "</div>"
            ],
            "text/plain": [
              "   Source           SS  DF          MS          F         p-unc       np2\n",
              "0    dose  1649.488667   2  824.744333  67.072379  3.357317e-11  0.832449\n",
              "1  Within   332.001000  27   12.296333        NaN           NaN       NaN"
            ]
          },
          "execution_count": 95,
          "metadata": {},
          "output_type": "execute_result"
        }
      ],
      "source": [
        "pg.anova(dv='len', between=['dose'], data=VC, detailed=True)"
      ]
    },
    {
      "cell_type": "code",
      "execution_count": null,
      "metadata": {
        "scrolled": true,
        "id": "Gb0x8ovk2oHq",
        "outputId": "78ce650a-4aeb-4094-abc1-9770a5e689f7"
      },
      "outputs": [
        {
          "data": {
            "text/html": [
              "<div>\n",
              "<style scoped>\n",
              "    .dataframe tbody tr th:only-of-type {\n",
              "        vertical-align: middle;\n",
              "    }\n",
              "\n",
              "    .dataframe tbody tr th {\n",
              "        vertical-align: top;\n",
              "    }\n",
              "\n",
              "    .dataframe thead th {\n",
              "        text-align: right;\n",
              "    }\n",
              "</style>\n",
              "<table border=\"1\" class=\"dataframe\">\n",
              "  <thead>\n",
              "    <tr style=\"text-align: right;\">\n",
              "      <th></th>\n",
              "      <th>Source</th>\n",
              "      <th>ddof1</th>\n",
              "      <th>H</th>\n",
              "      <th>p-unc</th>\n",
              "    </tr>\n",
              "  </thead>\n",
              "  <tbody>\n",
              "    <tr>\n",
              "      <th>Kruskal</th>\n",
              "      <td>dose</td>\n",
              "      <td>2</td>\n",
              "      <td>25.072217</td>\n",
              "      <td>0.000004</td>\n",
              "    </tr>\n",
              "  </tbody>\n",
              "</table>\n",
              "</div>"
            ],
            "text/plain": [
              "        Source  ddof1          H     p-unc\n",
              "Kruskal   dose      2  25.072217  0.000004"
            ]
          },
          "execution_count": 96,
          "metadata": {},
          "output_type": "execute_result"
        }
      ],
      "source": [
        "pg.kruskal(VC, dv='len', between='dose')"
      ]
    },
    {
      "cell_type": "markdown",
      "metadata": {
        "id": "PED5BPtA2oHq"
      },
      "source": [
        "На морских свинок, принимающих аскорбиновую кислоту значимо влияет доза принимаемого лекарства."
      ]
    },
    {
      "cell_type": "markdown",
      "metadata": {
        "id": "gmGghxyD2oHq"
      },
      "source": [
        "## Для морских свинок, принимающих апельсиновый сок:"
      ]
    },
    {
      "cell_type": "code",
      "execution_count": null,
      "metadata": {
        "id": "pHheic102oHq",
        "outputId": "b2ef7bca-44e4-4662-9dc9-7de12118de32"
      },
      "outputs": [
        {
          "data": {
            "image/png": "[encoded data removed]",
            "text/plain": [
              "<Figure size 432x288 with 1 Axes>"
            ]
          },
          "metadata": {
            "needs_background": "light"
          },
          "output_type": "display_data"
        }
      ],
      "source": [
        "sns.boxplot(x='dose', y='len',data=OJ);"
      ]
    },
    {
      "cell_type": "code",
      "execution_count": null,
      "metadata": {
        "id": "dhMlPeeN2oHr",
        "outputId": "bd9b37bd-610f-44c1-f7bb-46c0b9be38e8"
      },
      "outputs": [
        {
          "data": {
            "text/html": [
              "<div>\n",
              "<style scoped>\n",
              "    .dataframe tbody tr th:only-of-type {\n",
              "        vertical-align: middle;\n",
              "    }\n",
              "\n",
              "    .dataframe tbody tr th {\n",
              "        vertical-align: top;\n",
              "    }\n",
              "\n",
              "    .dataframe thead th {\n",
              "        text-align: right;\n",
              "    }\n",
              "</style>\n",
              "<table border=\"1\" class=\"dataframe\">\n",
              "  <thead>\n",
              "    <tr style=\"text-align: right;\">\n",
              "      <th></th>\n",
              "      <th>Source</th>\n",
              "      <th>SS</th>\n",
              "      <th>DF</th>\n",
              "      <th>MS</th>\n",
              "      <th>F</th>\n",
              "      <th>p-unc</th>\n",
              "      <th>np2</th>\n",
              "    </tr>\n",
              "  </thead>\n",
              "  <tbody>\n",
              "    <tr>\n",
              "      <th>0</th>\n",
              "      <td>dose</td>\n",
              "      <td>885.265</td>\n",
              "      <td>2</td>\n",
              "      <td>442.632</td>\n",
              "      <td>31.442</td>\n",
              "      <td>8.88716e-08</td>\n",
              "      <td>0.7</td>\n",
              "    </tr>\n",
              "    <tr>\n",
              "      <th>1</th>\n",
              "      <td>Within</td>\n",
              "      <td>380.105</td>\n",
              "      <td>27</td>\n",
              "      <td>14.078</td>\n",
              "      <td>-</td>\n",
              "      <td>-</td>\n",
              "      <td>-</td>\n",
              "    </tr>\n",
              "  </tbody>\n",
              "</table>\n",
              "</div>"
            ],
            "text/plain": [
              "   Source       SS  DF       MS       F        p-unc  np2\n",
              "0    dose  885.265   2  442.632  31.442  8.88716e-08  0.7\n",
              "1  Within  380.105  27   14.078       -            -    -"
            ]
          },
          "execution_count": 31,
          "metadata": {},
          "output_type": "execute_result"
        }
      ],
      "source": [
        "pg.anova(dv='len', between=['dose'], data=OJ, detailed=True)"
      ]
    },
    {
      "cell_type": "code",
      "execution_count": null,
      "metadata": {
        "scrolled": true,
        "id": "zqXfpxnG2oHr",
        "outputId": "fca096e5-4ae1-43bf-c41f-ca7adf626695"
      },
      "outputs": [
        {
          "data": {
            "text/html": [
              "<div>\n",
              "<style scoped>\n",
              "    .dataframe tbody tr th:only-of-type {\n",
              "        vertical-align: middle;\n",
              "    }\n",
              "\n",
              "    .dataframe tbody tr th {\n",
              "        vertical-align: top;\n",
              "    }\n",
              "\n",
              "    .dataframe thead th {\n",
              "        text-align: right;\n",
              "    }\n",
              "</style>\n",
              "<table border=\"1\" class=\"dataframe\">\n",
              "  <thead>\n",
              "    <tr style=\"text-align: right;\">\n",
              "      <th></th>\n",
              "      <th>Source</th>\n",
              "      <th>ddof1</th>\n",
              "      <th>H</th>\n",
              "      <th>p-unc</th>\n",
              "    </tr>\n",
              "  </thead>\n",
              "  <tbody>\n",
              "    <tr>\n",
              "      <th>Kruskal</th>\n",
              "      <td>dose</td>\n",
              "      <td>2</td>\n",
              "      <td>18.506</td>\n",
              "      <td>0.000096</td>\n",
              "    </tr>\n",
              "  </tbody>\n",
              "</table>\n",
              "</div>"
            ],
            "text/plain": [
              "        Source  ddof1       H     p-unc\n",
              "Kruskal   dose      2  18.506  0.000096"
            ]
          },
          "execution_count": 32,
          "metadata": {},
          "output_type": "execute_result"
        }
      ],
      "source": [
        "pg.kruskal(OJ, dv='len', between='dose')"
      ]
    },
    {
      "cell_type": "markdown",
      "metadata": {
        "id": "fiDCVxgH2oHr"
      },
      "source": [
        "На морских свинок, принимающих апельсиновый сок, значимо влияет доза принимаемого лекарства."
      ]
    },
    {
      "cell_type": "markdown",
      "metadata": {
        "id": "edFO8J342oHr"
      },
      "source": [
        "# Лечение гипертонии"
      ]
    },
    {
      "cell_type": "markdown",
      "metadata": {
        "id": "ymOO-Teg2oHr"
      },
      "source": [
        "72 пациента проходили лечение от гипертонии. Для лечения использовались три вида лекарств, при этом их эффект изучался как при использовании специальной диеты, так и в её отсутствии; кроме того, в половине случаев применялась психотерапия. Данные — артериальное давление пациента по окончании лечения.  \n",
        "\n",
        "Требуется сравнить эффективность методов лечения гипертонии.  "
      ]
    },
    {
      "cell_type": "code",
      "execution_count": null,
      "metadata": {
        "id": "i4qe30Xo2oHr"
      },
      "outputs": [],
      "source": [
        "data = pd.read_table('hyper.txt', delimiter=\"\\t\")"
      ]
    },
    {
      "cell_type": "code",
      "execution_count": null,
      "metadata": {
        "id": "JadpODZu2oHr",
        "outputId": "ac974762-8dcb-47fa-a706-3541d5e778e4"
      },
      "outputs": [
        {
          "data": {
            "text/html": [
              "<div>\n",
              "<style scoped>\n",
              "    .dataframe tbody tr th:only-of-type {\n",
              "        vertical-align: middle;\n",
              "    }\n",
              "\n",
              "    .dataframe tbody tr th {\n",
              "        vertical-align: top;\n",
              "    }\n",
              "\n",
              "    .dataframe thead th {\n",
              "        text-align: right;\n",
              "    }\n",
              "</style>\n",
              "<table border=\"1\" class=\"dataframe\">\n",
              "  <thead>\n",
              "    <tr style=\"text-align: right;\">\n",
              "      <th></th>\n",
              "      <th>biofeedback</th>\n",
              "      <th>diet</th>\n",
              "      <th>drug</th>\n",
              "      <th>pressure</th>\n",
              "    </tr>\n",
              "  </thead>\n",
              "  <tbody>\n",
              "    <tr>\n",
              "      <th>0</th>\n",
              "      <td>present</td>\n",
              "      <td>absent</td>\n",
              "      <td>1</td>\n",
              "      <td>170</td>\n",
              "    </tr>\n",
              "    <tr>\n",
              "      <th>1</th>\n",
              "      <td>present</td>\n",
              "      <td>absent</td>\n",
              "      <td>1</td>\n",
              "      <td>175</td>\n",
              "    </tr>\n",
              "    <tr>\n",
              "      <th>2</th>\n",
              "      <td>present</td>\n",
              "      <td>absent</td>\n",
              "      <td>1</td>\n",
              "      <td>165</td>\n",
              "    </tr>\n",
              "    <tr>\n",
              "      <th>3</th>\n",
              "      <td>present</td>\n",
              "      <td>absent</td>\n",
              "      <td>1</td>\n",
              "      <td>180</td>\n",
              "    </tr>\n",
              "    <tr>\n",
              "      <th>4</th>\n",
              "      <td>present</td>\n",
              "      <td>absent</td>\n",
              "      <td>1</td>\n",
              "      <td>160</td>\n",
              "    </tr>\n",
              "  </tbody>\n",
              "</table>\n",
              "</div>"
            ],
            "text/plain": [
              "  biofeedback    diet  drug  pressure\n",
              "0     present  absent     1       170\n",
              "1     present  absent     1       175\n",
              "2     present  absent     1       165\n",
              "3     present  absent     1       180\n",
              "4     present  absent     1       160"
            ]
          },
          "execution_count": 113,
          "metadata": {},
          "output_type": "execute_result"
        }
      ],
      "source": [
        "data.head()"
      ]
    },
    {
      "cell_type": "code",
      "execution_count": null,
      "metadata": {
        "id": "Ja9IOCOy2oHs",
        "outputId": "2d7ff4b1-7c20-41ca-cc75-c71ae61b2308"
      },
      "outputs": [
        {
          "data": {
            "text/html": [
              "<div>\n",
              "<style scoped>\n",
              "    .dataframe tbody tr th:only-of-type {\n",
              "        vertical-align: middle;\n",
              "    }\n",
              "\n",
              "    .dataframe tbody tr th {\n",
              "        vertical-align: top;\n",
              "    }\n",
              "\n",
              "    .dataframe thead th {\n",
              "        text-align: right;\n",
              "    }\n",
              "</style>\n",
              "<table border=\"1\" class=\"dataframe\">\n",
              "  <thead>\n",
              "    <tr style=\"text-align: right;\">\n",
              "      <th></th>\n",
              "      <th>drug</th>\n",
              "      <th>pressure</th>\n",
              "    </tr>\n",
              "  </thead>\n",
              "  <tbody>\n",
              "    <tr>\n",
              "      <th>count</th>\n",
              "      <td>72.000000</td>\n",
              "      <td>72.000000</td>\n",
              "    </tr>\n",
              "    <tr>\n",
              "      <th>mean</th>\n",
              "      <td>2.000000</td>\n",
              "      <td>184.500000</td>\n",
              "    </tr>\n",
              "    <tr>\n",
              "      <th>std</th>\n",
              "      <td>0.822226</td>\n",
              "      <td>17.838872</td>\n",
              "    </tr>\n",
              "    <tr>\n",
              "      <th>min</th>\n",
              "      <td>1.000000</td>\n",
              "      <td>152.000000</td>\n",
              "    </tr>\n",
              "    <tr>\n",
              "      <th>25%</th>\n",
              "      <td>1.000000</td>\n",
              "      <td>170.750000</td>\n",
              "    </tr>\n",
              "    <tr>\n",
              "      <th>50%</th>\n",
              "      <td>2.000000</td>\n",
              "      <td>182.500000</td>\n",
              "    </tr>\n",
              "    <tr>\n",
              "      <th>75%</th>\n",
              "      <td>3.000000</td>\n",
              "      <td>198.250000</td>\n",
              "    </tr>\n",
              "    <tr>\n",
              "      <th>max</th>\n",
              "      <td>3.000000</td>\n",
              "      <td>228.000000</td>\n",
              "    </tr>\n",
              "  </tbody>\n",
              "</table>\n",
              "</div>"
            ],
            "text/plain": [
              "            drug    pressure\n",
              "count  72.000000   72.000000\n",
              "mean    2.000000  184.500000\n",
              "std     0.822226   17.838872\n",
              "min     1.000000  152.000000\n",
              "25%     1.000000  170.750000\n",
              "50%     2.000000  182.500000\n",
              "75%     3.000000  198.250000\n",
              "max     3.000000  228.000000"
            ]
          },
          "execution_count": 114,
          "metadata": {},
          "output_type": "execute_result"
        }
      ],
      "source": [
        "data.describe()"
      ]
    },
    {
      "cell_type": "code",
      "execution_count": null,
      "metadata": {
        "id": "RinfU5Dr2oHs"
      },
      "outputs": [],
      "source": [
        "data['drug'] = data['drug'].astype('category')"
      ]
    },
    {
      "cell_type": "markdown",
      "metadata": {
        "id": "ryTQmfVa2oHs"
      },
      "source": [
        "Проведите трехфакторный дисперсионный анализ, используя все взаимодействия ( biofeedback * diet * drug). Что можно сказать о значимости тройного взаимодействия? Можно ли интерпретировать значимость воздействия одиночных факторов в таком случае?"
      ]
    },
    {
      "cell_type": "code",
      "execution_count": null,
      "metadata": {
        "id": "MbFiEtBr2oHs",
        "outputId": "e8b0079c-9799-4e70-f817-801ae208ea9a"
      },
      "outputs": [
        {
          "data": {
            "text/html": [
              "<div>\n",
              "<style scoped>\n",
              "    .dataframe tbody tr th:only-of-type {\n",
              "        vertical-align: middle;\n",
              "    }\n",
              "\n",
              "    .dataframe tbody tr th {\n",
              "        vertical-align: top;\n",
              "    }\n",
              "\n",
              "    .dataframe thead th {\n",
              "        text-align: right;\n",
              "    }\n",
              "</style>\n",
              "<table border=\"1\" class=\"dataframe\">\n",
              "  <thead>\n",
              "    <tr style=\"text-align: right;\">\n",
              "      <th></th>\n",
              "      <th>Source</th>\n",
              "      <th>SS</th>\n",
              "      <th>DF</th>\n",
              "      <th>MS</th>\n",
              "      <th>F</th>\n",
              "      <th>p-unc</th>\n",
              "      <th>np2</th>\n",
              "    </tr>\n",
              "  </thead>\n",
              "  <tbody>\n",
              "    <tr>\n",
              "      <th>0</th>\n",
              "      <td>biofeedback</td>\n",
              "      <td>2048.0</td>\n",
              "      <td>1.0</td>\n",
              "      <td>2048.000000</td>\n",
              "      <td>13.072340</td>\n",
              "      <td>6.150719e-04</td>\n",
              "      <td>0.178896</td>\n",
              "    </tr>\n",
              "    <tr>\n",
              "      <th>1</th>\n",
              "      <td>diet</td>\n",
              "      <td>5202.0</td>\n",
              "      <td>1.0</td>\n",
              "      <td>5202.000000</td>\n",
              "      <td>33.204255</td>\n",
              "      <td>3.053308e-07</td>\n",
              "      <td>0.356253</td>\n",
              "    </tr>\n",
              "    <tr>\n",
              "      <th>2</th>\n",
              "      <td>drug</td>\n",
              "      <td>3675.0</td>\n",
              "      <td>2.0</td>\n",
              "      <td>1837.500000</td>\n",
              "      <td>11.728723</td>\n",
              "      <td>5.018624e-05</td>\n",
              "      <td>0.281071</td>\n",
              "    </tr>\n",
              "    <tr>\n",
              "      <th>3</th>\n",
              "      <td>biofeedback * diet</td>\n",
              "      <td>32.0</td>\n",
              "      <td>1.0</td>\n",
              "      <td>32.000000</td>\n",
              "      <td>0.204255</td>\n",
              "      <td>6.529374e-01</td>\n",
              "      <td>0.003393</td>\n",
              "    </tr>\n",
              "    <tr>\n",
              "      <th>4</th>\n",
              "      <td>biofeedback * drug</td>\n",
              "      <td>259.0</td>\n",
              "      <td>2.0</td>\n",
              "      <td>129.500000</td>\n",
              "      <td>0.826596</td>\n",
              "      <td>4.424565e-01</td>\n",
              "      <td>0.026814</td>\n",
              "    </tr>\n",
              "    <tr>\n",
              "      <th>5</th>\n",
              "      <td>diet * drug</td>\n",
              "      <td>903.0</td>\n",
              "      <td>2.0</td>\n",
              "      <td>451.500000</td>\n",
              "      <td>2.881915</td>\n",
              "      <td>6.381527e-02</td>\n",
              "      <td>0.087644</td>\n",
              "    </tr>\n",
              "    <tr>\n",
              "      <th>6</th>\n",
              "      <td>biofeedback * diet * drug</td>\n",
              "      <td>1075.0</td>\n",
              "      <td>2.0</td>\n",
              "      <td>537.500000</td>\n",
              "      <td>3.430851</td>\n",
              "      <td>3.883423e-02</td>\n",
              "      <td>0.102625</td>\n",
              "    </tr>\n",
              "    <tr>\n",
              "      <th>7</th>\n",
              "      <td>Residual</td>\n",
              "      <td>9400.0</td>\n",
              "      <td>60.0</td>\n",
              "      <td>156.666667</td>\n",
              "      <td>NaN</td>\n",
              "      <td>NaN</td>\n",
              "      <td>NaN</td>\n",
              "    </tr>\n",
              "  </tbody>\n",
              "</table>\n",
              "</div>"
            ],
            "text/plain": [
              "                      Source      SS    DF           MS          F  \\\n",
              "0                biofeedback  2048.0   1.0  2048.000000  13.072340   \n",
              "1                       diet  5202.0   1.0  5202.000000  33.204255   \n",
              "2                       drug  3675.0   2.0  1837.500000  11.728723   \n",
              "3         biofeedback * diet    32.0   1.0    32.000000   0.204255   \n",
              "4         biofeedback * drug   259.0   2.0   129.500000   0.826596   \n",
              "5                diet * drug   903.0   2.0   451.500000   2.881915   \n",
              "6  biofeedback * diet * drug  1075.0   2.0   537.500000   3.430851   \n",
              "7                   Residual  9400.0  60.0   156.666667        NaN   \n",
              "\n",
              "          p-unc       np2  \n",
              "0  6.150719e-04  0.178896  \n",
              "1  3.053308e-07  0.356253  \n",
              "2  5.018624e-05  0.281071  \n",
              "3  6.529374e-01  0.003393  \n",
              "4  4.424565e-01  0.026814  \n",
              "5  6.381527e-02  0.087644  \n",
              "6  3.883423e-02  0.102625  \n",
              "7           NaN       NaN  "
            ]
          },
          "execution_count": 116,
          "metadata": {},
          "output_type": "execute_result"
        }
      ],
      "source": [
        "pg.anova(dv='pressure', between=['biofeedback', 'diet', 'drug'], data=data)"
      ]
    },
    {
      "cell_type": "markdown",
      "metadata": {
        "id": "DCZJ9XN52oHs"
      },
      "source": [
        "Тройное взаимодействия значимо влияет на артериальное давление, причем доля дисперсии приходящаяся на него выше чем у двухфакторного взаимодействия (0.1 против 0.003, 0.02 и 0.08) и лучше разделяет на подгруппы (SS = 1075 против 32, 259 и 903)."
      ]
    },
    {
      "cell_type": "markdown",
      "metadata": {
        "id": "CdZC000d2oHs"
      },
      "source": [
        "Нарисуйте графики взаимодействия  \n",
        "\n",
        "- между психотерапией и использованием лекарств для каждого фиксированного значения диеты.  \n",
        "\n",
        "- между диетой и использованием лекарства при фиксированном значении психотерапии.  \n",
        "\n",
        "Можете ли вы проинтерпретировать данные графики?  "
      ]
    },
    {
      "cell_type": "code",
      "execution_count": null,
      "metadata": {
        "id": "7w0pobjA2oHt"
      },
      "outputs": [],
      "source": [
        "absent_diet = data[data.diet == 'absent'].reset_index()\n",
        "present_diet = data[data.diet == 'present'].reset_index()"
      ]
    },
    {
      "cell_type": "code",
      "execution_count": null,
      "metadata": {
        "id": "qQk1VEgM2oHt",
        "outputId": "2eff6d82-e686-43b1-ad1d-83aec59ffa03"
      },
      "outputs": [
        {
          "data": {
            "image/png": "[encoded data removed]",
            "text/plain": [
              "<Figure size 432x288 with 1 Axes>"
            ]
          },
          "metadata": {
            "needs_background": "light"
          },
          "output_type": "display_data"
        },
        {
          "data": {
            "image/png": "[encoded data removed]",
            "text/plain": [
              "<Figure size 432x288 with 1 Axes>"
            ]
          },
          "metadata": {
            "needs_background": "light"
          },
          "output_type": "display_data"
        }
      ],
      "source": [
        "# diet is Absent\n",
        "statsmodels.graphics.factorplots.interaction_plot(absent_diet.biofeedback,\n",
        "                                                  absent_diet.drug,\n",
        "                                                  absent_diet.pressure,\n",
        "                                                  colors=['red','blue', 'green'],\n",
        "                                                  markers=['D','^', '*'])\n",
        "# diet is Present\n",
        "statsmodels.graphics.factorplots.interaction_plot(present_diet.biofeedback,\n",
        "                                                  present_diet.drug,\n",
        "                                                  present_diet.pressure,\n",
        "                                                  colors=['red','blue', 'green'],\n",
        "                                                  markers=['D','^', '*'])\n",
        "plt.show()"
      ]
    },
    {
      "cell_type": "code",
      "execution_count": null,
      "metadata": {
        "id": "VdPCM8d02oHt"
      },
      "outputs": [],
      "source": [
        "absent_biofeedback = data[data.biofeedback == 'absent'].reset_index()\n",
        "present_biofeedback = data[data.biofeedback == 'present'].reset_index()"
      ]
    },
    {
      "cell_type": "code",
      "execution_count": null,
      "metadata": {
        "id": "b1xGR9v62oHt",
        "outputId": "eafa1efe-9e7c-49d8-b46e-fb3d1dcbf7ba"
      },
      "outputs": [
        {
          "data": {
            "image/png": "[encoded data removed]",
            "text/plain": [
              "<Figure size 432x288 with 1 Axes>"
            ]
          },
          "metadata": {
            "needs_background": "light"
          },
          "output_type": "display_data"
        },
        {
          "data": {
            "image/png": "[encoded data removed]",
            "text/plain": [
              "<Figure size 432x288 with 1 Axes>"
            ]
          },
          "metadata": {
            "needs_background": "light"
          },
          "output_type": "display_data"
        }
      ],
      "source": [
        "# biofeedback is Absent\n",
        "statsmodels.graphics.factorplots.interaction_plot(absent_biofeedback.diet,\n",
        "                                                  absent_biofeedback.drug,\n",
        "                                                  absent_biofeedback.pressure,\n",
        "                                                  colors=['red','blue', 'green'],\n",
        "                                                  markers=['D','^', '*'])\n",
        "# biofeedback is Present\n",
        "statsmodels.graphics.factorplots.interaction_plot(present_biofeedback.diet,\n",
        "                                                  present_biofeedback.drug,\n",
        "                                                  present_biofeedback.pressure,\n",
        "                                                  colors=['red','blue', 'green'],\n",
        "                                                  markers=['D','^', '*'])\n",
        "plt.show()"
      ]
    },
    {
      "cell_type": "markdown",
      "metadata": {
        "id": "3f9FlHi62oHt"
      },
      "source": [
        "Тройное взаимодействие значимо, поэтому разделим выборку по одному из признаков.  \n",
        "\n",
        "Двухфакторный дисперсионный анализ для пациентов, проходящих психотерапию:"
      ]
    },
    {
      "cell_type": "code",
      "execution_count": null,
      "metadata": {
        "id": "7okHvU9s2oHt",
        "outputId": "52c12ffc-a16b-4e10-b303-5a0802aa9aea"
      },
      "outputs": [
        {
          "data": {
            "text/html": [
              "<div>\n",
              "<style scoped>\n",
              "    .dataframe tbody tr th:only-of-type {\n",
              "        vertical-align: middle;\n",
              "    }\n",
              "\n",
              "    .dataframe tbody tr th {\n",
              "        vertical-align: top;\n",
              "    }\n",
              "\n",
              "    .dataframe thead th {\n",
              "        text-align: right;\n",
              "    }\n",
              "</style>\n",
              "<table border=\"1\" class=\"dataframe\">\n",
              "  <thead>\n",
              "    <tr style=\"text-align: right;\">\n",
              "      <th></th>\n",
              "      <th>Source</th>\n",
              "      <th>SS</th>\n",
              "      <th>DF</th>\n",
              "      <th>MS</th>\n",
              "      <th>F</th>\n",
              "      <th>p-unc</th>\n",
              "      <th>np2</th>\n",
              "    </tr>\n",
              "  </thead>\n",
              "  <tbody>\n",
              "    <tr>\n",
              "      <th>0</th>\n",
              "      <td>diet</td>\n",
              "      <td>2209.0</td>\n",
              "      <td>1</td>\n",
              "      <td>2209.000000</td>\n",
              "      <td>15.248504</td>\n",
              "      <td>0.000496</td>\n",
              "      <td>0.336995</td>\n",
              "    </tr>\n",
              "    <tr>\n",
              "      <th>1</th>\n",
              "      <td>drug</td>\n",
              "      <td>2342.0</td>\n",
              "      <td>2</td>\n",
              "      <td>1171.000000</td>\n",
              "      <td>8.083295</td>\n",
              "      <td>0.001556</td>\n",
              "      <td>0.350179</td>\n",
              "    </tr>\n",
              "    <tr>\n",
              "      <th>2</th>\n",
              "      <td>diet * drug</td>\n",
              "      <td>1634.0</td>\n",
              "      <td>2</td>\n",
              "      <td>817.000000</td>\n",
              "      <td>5.639669</td>\n",
              "      <td>0.008334</td>\n",
              "      <td>0.273244</td>\n",
              "    </tr>\n",
              "    <tr>\n",
              "      <th>3</th>\n",
              "      <td>Residual</td>\n",
              "      <td>4346.0</td>\n",
              "      <td>30</td>\n",
              "      <td>144.866667</td>\n",
              "      <td>NaN</td>\n",
              "      <td>NaN</td>\n",
              "      <td>NaN</td>\n",
              "    </tr>\n",
              "  </tbody>\n",
              "</table>\n",
              "</div>"
            ],
            "text/plain": [
              "        Source      SS  DF           MS          F     p-unc       np2\n",
              "0         diet  2209.0   1  2209.000000  15.248504  0.000496  0.336995\n",
              "1         drug  2342.0   2  1171.000000   8.083295  0.001556  0.350179\n",
              "2  diet * drug  1634.0   2   817.000000   5.639669  0.008334  0.273244\n",
              "3     Residual  4346.0  30   144.866667        NaN       NaN       NaN"
            ]
          },
          "execution_count": 121,
          "metadata": {},
          "output_type": "execute_result"
        }
      ],
      "source": [
        "pg.anova(dv='pressure', between=['diet', 'drug'], data=present_biofeedback,detailed=True)"
      ]
    },
    {
      "cell_type": "markdown",
      "metadata": {
        "id": "giMmci5X2oHu"
      },
      "source": [
        "Есть значимое межфакторное взаимодействие:"
      ]
    },
    {
      "cell_type": "code",
      "execution_count": null,
      "metadata": {
        "id": "DWTCSLzR2oHu",
        "outputId": "f73f0923-ee4d-41be-a3f8-6ebfae413299"
      },
      "outputs": [
        {
          "data": {
            "image/png": "[encoded data removed]",
            "text/plain": [
              "<Figure size 432x288 with 1 Axes>"
            ]
          },
          "metadata": {
            "needs_background": "light"
          },
          "output_type": "display_data"
        },
        {
          "data": {
            "image/png": "[encoded data removed]",
            "text/plain": [
              "<Figure size 432x288 with 1 Axes>"
            ]
          },
          "metadata": {
            "needs_background": "light"
          },
          "output_type": "display_data"
        }
      ],
      "source": [
        "statsmodels.graphics.factorplots.interaction_plot(present_biofeedback.diet,\n",
        "                                                  present_biofeedback.drug,\n",
        "                                                  present_biofeedback.pressure,\n",
        "                                                  colors=['red','blue', 'green'],\n",
        "                                                  markers=['D','^', '*'])\n",
        "\n",
        "statsmodels.graphics.factorplots.interaction_plot(present_biofeedback.drug,\n",
        "                                                  present_biofeedback.diet,\n",
        "                                                  present_biofeedback.pressure)\n",
        "plt.show()"
      ]
    },
    {
      "cell_type": "markdown",
      "metadata": {
        "id": "0-TSulH42oHu"
      },
      "source": [
        "Поэтому снова поделим выборку.  \n",
        "\n",
        "Однофакторный анализ для пациентов, проходящих психотерапию и сидящих на диете:  "
      ]
    },
    {
      "cell_type": "code",
      "execution_count": null,
      "metadata": {
        "id": "NeIadQGC2oHu"
      },
      "outputs": [],
      "source": [
        "present_bio_present_diet = present_biofeedback[present_biofeedback.diet == 'present'].reset_index()"
      ]
    },
    {
      "cell_type": "code",
      "execution_count": null,
      "metadata": {
        "id": "jhAjiyPd2oHu",
        "outputId": "a96311cd-2922-4d85-fcc2-9799f42d6805"
      },
      "outputs": [
        {
          "data": {
            "text/plain": [
              "<AxesSubplot:xlabel='drug', ylabel='pressure'>"
            ]
          },
          "execution_count": 124,
          "metadata": {},
          "output_type": "execute_result"
        },
        {
          "data": {
            "image/png": "[encoded data removed]",
            "text/plain": [
              "<Figure size 432x288 with 1 Axes>"
            ]
          },
          "metadata": {
            "needs_background": "light"
          },
          "output_type": "display_data"
        }
      ],
      "source": [
        "sns.boxplot(x='drug', y='pressure',data=present_bio_present_diet)"
      ]
    },
    {
      "cell_type": "code",
      "execution_count": null,
      "metadata": {
        "id": "K7hrDrP52oHu",
        "outputId": "4a4e1656-a39f-4730-cbb4-cbdc03b5f945"
      },
      "outputs": [
        {
          "data": {
            "text/html": [
              "<div>\n",
              "<style scoped>\n",
              "    .dataframe tbody tr th:only-of-type {\n",
              "        vertical-align: middle;\n",
              "    }\n",
              "\n",
              "    .dataframe tbody tr th {\n",
              "        vertical-align: top;\n",
              "    }\n",
              "\n",
              "    .dataframe thead th {\n",
              "        text-align: right;\n",
              "    }\n",
              "</style>\n",
              "<table border=\"1\" class=\"dataframe\">\n",
              "  <thead>\n",
              "    <tr style=\"text-align: right;\">\n",
              "      <th></th>\n",
              "      <th>Source</th>\n",
              "      <th>SS</th>\n",
              "      <th>DF</th>\n",
              "      <th>MS</th>\n",
              "      <th>F</th>\n",
              "      <th>p-unc</th>\n",
              "      <th>np2</th>\n",
              "    </tr>\n",
              "  </thead>\n",
              "  <tbody>\n",
              "    <tr>\n",
              "      <th>0</th>\n",
              "      <td>drug</td>\n",
              "      <td>52.0</td>\n",
              "      <td>2</td>\n",
              "      <td>26.0</td>\n",
              "      <td>0.164141</td>\n",
              "      <td>0.850126</td>\n",
              "      <td>0.021417</td>\n",
              "    </tr>\n",
              "    <tr>\n",
              "      <th>1</th>\n",
              "      <td>Within</td>\n",
              "      <td>2376.0</td>\n",
              "      <td>15</td>\n",
              "      <td>158.4</td>\n",
              "      <td>NaN</td>\n",
              "      <td>NaN</td>\n",
              "      <td>NaN</td>\n",
              "    </tr>\n",
              "  </tbody>\n",
              "</table>\n",
              "</div>"
            ],
            "text/plain": [
              "   Source      SS  DF     MS         F     p-unc       np2\n",
              "0    drug    52.0   2   26.0  0.164141  0.850126  0.021417\n",
              "1  Within  2376.0  15  158.4       NaN       NaN       NaN"
            ]
          },
          "execution_count": 125,
          "metadata": {},
          "output_type": "execute_result"
        }
      ],
      "source": [
        "pg.anova(dv='pressure', between=['drug'], data=present_bio_present_diet,detailed=True)"
      ]
    },
    {
      "cell_type": "markdown",
      "metadata": {
        "id": "6l6ZiFBE2oHv"
      },
      "source": [
        "Значимых различий между эффектами препаратов нет.  \n",
        "\n",
        "Однофакторный анализ для пациентов, проходящих психотерапию и не сидящих на диете:  "
      ]
    },
    {
      "cell_type": "code",
      "execution_count": null,
      "metadata": {
        "id": "MqqcH8Xd2oHv"
      },
      "outputs": [],
      "source": [
        "present_bio_absent_diet = present_biofeedback[present_biofeedback.diet == 'absent'].reset_index()"
      ]
    },
    {
      "cell_type": "code",
      "execution_count": null,
      "metadata": {
        "id": "sVZYtrQr2oHv",
        "outputId": "ee0476ef-91b7-4624-c34e-758f6e00c31b"
      },
      "outputs": [
        {
          "data": {
            "text/plain": [
              "<AxesSubplot:xlabel='drug', ylabel='pressure'>"
            ]
          },
          "execution_count": 127,
          "metadata": {},
          "output_type": "execute_result"
        },
        {
          "data": {
            "image/png": "[encoded data removed]",
            "text/plain": [
              "<Figure size 432x288 with 1 Axes>"
            ]
          },
          "metadata": {
            "needs_background": "light"
          },
          "output_type": "display_data"
        }
      ],
      "source": [
        "sns.boxplot(x='drug', y='pressure',data=present_bio_absent_diet)"
      ]
    },
    {
      "cell_type": "code",
      "execution_count": null,
      "metadata": {
        "id": "y8BdiEKQ2oHv",
        "outputId": "22169317-8ccf-4b7d-dea7-5df92857d724"
      },
      "outputs": [
        {
          "data": {
            "text/html": [
              "<div>\n",
              "<style scoped>\n",
              "    .dataframe tbody tr th:only-of-type {\n",
              "        vertical-align: middle;\n",
              "    }\n",
              "\n",
              "    .dataframe tbody tr th {\n",
              "        vertical-align: top;\n",
              "    }\n",
              "\n",
              "    .dataframe thead th {\n",
              "        text-align: right;\n",
              "    }\n",
              "</style>\n",
              "<table border=\"1\" class=\"dataframe\">\n",
              "  <thead>\n",
              "    <tr style=\"text-align: right;\">\n",
              "      <th></th>\n",
              "      <th>Source</th>\n",
              "      <th>SS</th>\n",
              "      <th>DF</th>\n",
              "      <th>MS</th>\n",
              "      <th>F</th>\n",
              "      <th>p-unc</th>\n",
              "      <th>np2</th>\n",
              "    </tr>\n",
              "  </thead>\n",
              "  <tbody>\n",
              "    <tr>\n",
              "      <th>0</th>\n",
              "      <td>drug</td>\n",
              "      <td>3924.0</td>\n",
              "      <td>2</td>\n",
              "      <td>1962.000000</td>\n",
              "      <td>14.939086</td>\n",
              "      <td>0.000269</td>\n",
              "      <td>0.665762</td>\n",
              "    </tr>\n",
              "    <tr>\n",
              "      <th>1</th>\n",
              "      <td>Within</td>\n",
              "      <td>1970.0</td>\n",
              "      <td>15</td>\n",
              "      <td>131.333333</td>\n",
              "      <td>NaN</td>\n",
              "      <td>NaN</td>\n",
              "      <td>NaN</td>\n",
              "    </tr>\n",
              "  </tbody>\n",
              "</table>\n",
              "</div>"
            ],
            "text/plain": [
              "   Source      SS  DF           MS          F     p-unc       np2\n",
              "0    drug  3924.0   2  1962.000000  14.939086  0.000269  0.665762\n",
              "1  Within  1970.0  15   131.333333        NaN       NaN       NaN"
            ]
          },
          "execution_count": 128,
          "metadata": {},
          "output_type": "execute_result"
        }
      ],
      "source": [
        "pg.anova(dv='pressure', between=['drug'], data=present_bio_absent_diet,detailed=True)"
      ]
    },
    {
      "cell_type": "markdown",
      "metadata": {
        "id": "fi_f_hHZ2oHv"
      },
      "source": [
        "Так как использование anova позволяет только отвергать/не отвергать гипотезу о средних, то нам бы хотелось инструмент, позволяющий более конкретно сравнивать группы между собой."
      ]
    },
    {
      "cell_type": "code",
      "execution_count": null,
      "metadata": {
        "id": "VhEdOv6T2oHv",
        "outputId": "d7b89ff2-8cee-433c-dbd8-cfd578a71e47"
      },
      "outputs": [
        {
          "name": "stdout",
          "output_type": "stream",
          "text": [
            " Multiple Comparison of Means - Tukey HSD, FWER=0.05 \n",
            "=====================================================\n",
            "group1 group2 meandiff p-adj   lower    upper  reject\n",
            "-----------------------------------------------------\n",
            "     1      2     36.0  0.001  18.8206 53.1794   True\n",
            "     1      3     21.0 0.0163   3.8206 38.1794   True\n",
            "     2      3    -15.0 0.0918 -32.1794  2.1794  False\n",
            "-----------------------------------------------------\n"
          ]
        }
      ],
      "source": [
        "mc = statsmodels.stats.multicomp.MultiComparison(present_bio_absent_diet['pressure'],\n",
        "                                                 present_bio_absent_diet['drug'])\n",
        "mc_results = mc.tukeyhsd()\n",
        "print(mc_results)"
      ]
    },
    {
      "cell_type": "markdown",
      "metadata": {
        "id": "9H7DeIUh2oHv"
      },
      "source": [
        "Препарат из группы 1 значимо отличим от препарата из групп 2 и 3, а препараты из группы 2 и 3 не являются статистически отличимыми на 5% уровне значимости(p-adj 0.001 и 0.01 против 0.09). То есть это дает нам оснавания считать, что препарат 1 значимо эффективнее двух других.  "
      ]
    },
    {
      "cell_type": "markdown",
      "metadata": {
        "id": "FoUNgV-y2oHw"
      },
      "source": [
        "Аналогично можно провести двухфакторный дисперсионный анализ для пациентов, не проходящих психотерапию:"
      ]
    },
    {
      "cell_type": "code",
      "execution_count": null,
      "metadata": {
        "id": "GDK-Y2ys2oHw",
        "outputId": "fc9c9d7f-d639-4a5a-9412-feebe4db385d"
      },
      "outputs": [
        {
          "data": {
            "text/html": [
              "<div>\n",
              "<style scoped>\n",
              "    .dataframe tbody tr th:only-of-type {\n",
              "        vertical-align: middle;\n",
              "    }\n",
              "\n",
              "    .dataframe tbody tr th {\n",
              "        vertical-align: top;\n",
              "    }\n",
              "\n",
              "    .dataframe thead th {\n",
              "        text-align: right;\n",
              "    }\n",
              "</style>\n",
              "<table border=\"1\" class=\"dataframe\">\n",
              "  <thead>\n",
              "    <tr style=\"text-align: right;\">\n",
              "      <th></th>\n",
              "      <th>Source</th>\n",
              "      <th>SS</th>\n",
              "      <th>DF</th>\n",
              "      <th>MS</th>\n",
              "      <th>F</th>\n",
              "      <th>p-unc</th>\n",
              "      <th>np2</th>\n",
              "    </tr>\n",
              "  </thead>\n",
              "  <tbody>\n",
              "    <tr>\n",
              "      <th>0</th>\n",
              "      <td>diet</td>\n",
              "      <td>3025.0</td>\n",
              "      <td>1</td>\n",
              "      <td>3025.000</td>\n",
              "      <td>17.956074</td>\n",
              "      <td>0.000198</td>\n",
              "      <td>0.374428</td>\n",
              "    </tr>\n",
              "    <tr>\n",
              "      <th>1</th>\n",
              "      <td>drug</td>\n",
              "      <td>1592.0</td>\n",
              "      <td>2</td>\n",
              "      <td>796.000</td>\n",
              "      <td>4.724970</td>\n",
              "      <td>0.016448</td>\n",
              "      <td>0.239543</td>\n",
              "    </tr>\n",
              "    <tr>\n",
              "      <th>2</th>\n",
              "      <td>diet * drug</td>\n",
              "      <td>344.0</td>\n",
              "      <td>2</td>\n",
              "      <td>172.000</td>\n",
              "      <td>1.020973</td>\n",
              "      <td>0.372422</td>\n",
              "      <td>0.063727</td>\n",
              "    </tr>\n",
              "    <tr>\n",
              "      <th>3</th>\n",
              "      <td>Residual</td>\n",
              "      <td>5054.0</td>\n",
              "      <td>30</td>\n",
              "      <td>168.467</td>\n",
              "      <td>NaN</td>\n",
              "      <td>NaN</td>\n",
              "      <td>NaN</td>\n",
              "    </tr>\n",
              "  </tbody>\n",
              "</table>\n",
              "</div>"
            ],
            "text/plain": [
              "        Source      SS  DF        MS          F     p-unc       np2\n",
              "0         diet  3025.0   1  3025.000  17.956074  0.000198  0.374428\n",
              "1         drug  1592.0   2   796.000   4.724970  0.016448  0.239543\n",
              "2  diet * drug   344.0   2   172.000   1.020973  0.372422  0.063727\n",
              "3     Residual  5054.0  30   168.467        NaN       NaN       NaN"
            ]
          },
          "execution_count": 51,
          "metadata": {},
          "output_type": "execute_result"
        }
      ],
      "source": [
        "pg.anova(dv='pressure', between=['diet','drug'], data=absent_biofeedback,detailed=True)"
      ]
    },
    {
      "cell_type": "code",
      "execution_count": null,
      "metadata": {
        "id": "k40RRbQ12oHw",
        "outputId": "22f7718a-b86b-4ebe-bb68-cac41fd1b234"
      },
      "outputs": [
        {
          "data": {
            "text/html": [
              "<div>\n",
              "<style scoped>\n",
              "    .dataframe tbody tr th:only-of-type {\n",
              "        vertical-align: middle;\n",
              "    }\n",
              "\n",
              "    .dataframe tbody tr th {\n",
              "        vertical-align: top;\n",
              "    }\n",
              "\n",
              "    .dataframe thead th {\n",
              "        text-align: right;\n",
              "    }\n",
              "</style>\n",
              "<table border=\"1\" class=\"dataframe\">\n",
              "  <thead>\n",
              "    <tr style=\"text-align: right;\">\n",
              "      <th></th>\n",
              "      <th>A</th>\n",
              "      <th>B</th>\n",
              "      <th>mean(A)</th>\n",
              "      <th>mean(B)</th>\n",
              "      <th>diff</th>\n",
              "      <th>se</th>\n",
              "      <th>tail</th>\n",
              "      <th>T</th>\n",
              "      <th>p-tukey</th>\n",
              "      <th>hedges</th>\n",
              "    </tr>\n",
              "  </thead>\n",
              "  <tbody>\n",
              "    <tr>\n",
              "      <th>0</th>\n",
              "      <td>1</td>\n",
              "      <td>2</td>\n",
              "      <td>180.5</td>\n",
              "      <td>193.5</td>\n",
              "      <td>-13.0</td>\n",
              "      <td>6.522</td>\n",
              "      <td>two-sided</td>\n",
              "      <td>-1.993</td>\n",
              "      <td>0.117048</td>\n",
              "      <td>-0.786</td>\n",
              "    </tr>\n",
              "    <tr>\n",
              "      <th>1</th>\n",
              "      <td>1</td>\n",
              "      <td>3</td>\n",
              "      <td>180.5</td>\n",
              "      <td>195.5</td>\n",
              "      <td>-15.0</td>\n",
              "      <td>6.522</td>\n",
              "      <td>two-sided</td>\n",
              "      <td>-2.300</td>\n",
              "      <td>0.058436</td>\n",
              "      <td>-0.907</td>\n",
              "    </tr>\n",
              "    <tr>\n",
              "      <th>2</th>\n",
              "      <td>2</td>\n",
              "      <td>3</td>\n",
              "      <td>193.5</td>\n",
              "      <td>195.5</td>\n",
              "      <td>-2.0</td>\n",
              "      <td>6.522</td>\n",
              "      <td>two-sided</td>\n",
              "      <td>-0.307</td>\n",
              "      <td>0.900000</td>\n",
              "      <td>-0.121</td>\n",
              "    </tr>\n",
              "  </tbody>\n",
              "</table>\n",
              "</div>"
            ],
            "text/plain": [
              "   A  B  mean(A)  mean(B)  diff     se       tail      T   p-tukey  hedges\n",
              "0  1  2    180.5    193.5 -13.0  6.522  two-sided -1.993  0.117048  -0.786\n",
              "1  1  3    180.5    195.5 -15.0  6.522  two-sided -2.300  0.058436  -0.907\n",
              "2  2  3    193.5    195.5  -2.0  6.522  two-sided -0.307  0.900000  -0.121"
            ]
          },
          "execution_count": 52,
          "metadata": {},
          "output_type": "execute_result"
        }
      ],
      "source": [
        "pg.pairwise_tukey(data=absent_biofeedback, dv='pressure', between='drug')"
      ]
    },
    {
      "cell_type": "code",
      "execution_count": null,
      "metadata": {
        "id": "AJPa-OZ92oHw",
        "outputId": "b73efc22-bea9-4401-93e3-712708b0e788"
      },
      "outputs": [
        {
          "data": {
            "text/html": [
              "<div>\n",
              "<style scoped>\n",
              "    .dataframe tbody tr th:only-of-type {\n",
              "        vertical-align: middle;\n",
              "    }\n",
              "\n",
              "    .dataframe tbody tr th {\n",
              "        vertical-align: top;\n",
              "    }\n",
              "\n",
              "    .dataframe thead th {\n",
              "        text-align: right;\n",
              "    }\n",
              "</style>\n",
              "<table border=\"1\" class=\"dataframe\">\n",
              "  <thead>\n",
              "    <tr style=\"text-align: right;\">\n",
              "      <th></th>\n",
              "      <th>A</th>\n",
              "      <th>B</th>\n",
              "      <th>mean(A)</th>\n",
              "      <th>mean(B)</th>\n",
              "      <th>diff</th>\n",
              "      <th>se</th>\n",
              "      <th>tail</th>\n",
              "      <th>T</th>\n",
              "      <th>p-tukey</th>\n",
              "      <th>hedges</th>\n",
              "    </tr>\n",
              "  </thead>\n",
              "  <tbody>\n",
              "    <tr>\n",
              "      <th>0</th>\n",
              "      <td>absent</td>\n",
              "      <td>present</td>\n",
              "      <td>199.0</td>\n",
              "      <td>180.667</td>\n",
              "      <td>18.333</td>\n",
              "      <td>4.779</td>\n",
              "      <td>two-sided</td>\n",
              "      <td>3.836</td>\n",
              "      <td>0.001</td>\n",
              "      <td>1.25</td>\n",
              "    </tr>\n",
              "  </tbody>\n",
              "</table>\n",
              "</div>"
            ],
            "text/plain": [
              "        A        B  mean(A)  mean(B)    diff     se       tail      T  \\\n",
              "0  absent  present    199.0  180.667  18.333  4.779  two-sided  3.836   \n",
              "\n",
              "   p-tukey  hedges  \n",
              "0    0.001    1.25  "
            ]
          },
          "execution_count": 54,
          "metadata": {},
          "output_type": "execute_result"
        }
      ],
      "source": [
        "pg.pairwise_tukey(data=absent_biofeedback, dv='pressure', between='diet')"
      ]
    },
    {
      "cell_type": "markdown",
      "source": [
        "##Удовлетворенность клиентов банка\n",
        "https://www.kaggle.com/c/santander-customer-satisfaction"
      ],
      "metadata": {
        "id": "K6US5cw6pEHG"
      }
    },
    {
      "cell_type": "code",
      "source": [
        "from sklearn.model_selection import train_test_split\n",
        "from sklearn.ensemble import RandomForestClassifier\n",
        "from sklearn.metrics import accuracy_score\n",
        "from sklearn.feature_selection import VarianceThreshold\n",
        "from sklearn.feature_selection import f_classif, f_regression\n",
        "from sklearn.feature_selection import SelectKBest, SelectPercentile"
      ],
      "metadata": {
        "id": "HGPZWd_w3sMY"
      },
      "execution_count": null,
      "outputs": []
    },
    {
      "cell_type": "code",
      "source": [
        "data = pd.read_csv('santander.csv')\n",
        "data.head()"
      ],
      "metadata": {
        "colab": {
          "base_uri": "https://localhost:8080/",
          "height": 256
        },
        "id": "bj-rSj72569Y",
        "outputId": "1dbd8047-bd61-4a0a-a9b7-bae8615964f1"
      },
      "execution_count": null,
      "outputs": [
        {
          "output_type": "execute_result",
          "data": {
            "text/plain": [
              "   ID  var3  var15  imp_ent_var16_ult1  imp_op_var39_comer_ult1  \\\n",
              "0   1     2     23                 0.0                      0.0   \n",
              "1   3     2     34                 0.0                      0.0   \n",
              "2   4     2     23                 0.0                      0.0   \n",
              "3   8     2     37                 0.0                    195.0   \n",
              "4  10     2     39                 0.0                      0.0   \n",
              "\n",
              "   imp_op_var39_comer_ult3  imp_op_var40_comer_ult1  imp_op_var40_comer_ult3  \\\n",
              "0                      0.0                      0.0                      0.0   \n",
              "1                      0.0                      0.0                      0.0   \n",
              "2                      0.0                      0.0                      0.0   \n",
              "3                    195.0                      0.0                      0.0   \n",
              "4                      0.0                      0.0                      0.0   \n",
              "\n",
              "   imp_op_var40_efect_ult1  imp_op_var40_efect_ult3  ...  \\\n",
              "0                      0.0                      0.0  ...   \n",
              "1                      0.0                      0.0  ...   \n",
              "2                      0.0                      0.0  ...   \n",
              "3                      0.0                      0.0  ...   \n",
              "4                      0.0                      0.0  ...   \n",
              "\n",
              "   saldo_medio_var33_hace2  saldo_medio_var33_hace3  saldo_medio_var33_ult1  \\\n",
              "0                      0.0                      0.0                     0.0   \n",
              "1                      0.0                      0.0                     0.0   \n",
              "2                      0.0                      0.0                     0.0   \n",
              "3                      0.0                      0.0                     0.0   \n",
              "4                      0.0                      0.0                     0.0   \n",
              "\n",
              "   saldo_medio_var33_ult3  saldo_medio_var44_hace2  saldo_medio_var44_hace3  \\\n",
              "0                     0.0                      0.0                      0.0   \n",
              "1                     0.0                      0.0                      0.0   \n",
              "2                     0.0                      0.0                      0.0   \n",
              "3                     0.0                      0.0                      0.0   \n",
              "4                     0.0                      0.0                      0.0   \n",
              "\n",
              "   saldo_medio_var44_ult1  saldo_medio_var44_ult3          var38  TARGET  \n",
              "0                     0.0                     0.0   39205.170000       0  \n",
              "1                     0.0                     0.0   49278.030000       0  \n",
              "2                     0.0                     0.0   67333.770000       0  \n",
              "3                     0.0                     0.0   64007.970000       0  \n",
              "4                     0.0                     0.0  117310.979016       0  \n",
              "\n",
              "[5 rows x 371 columns]"
            ],
            "text/html": [
              "\n",
              "  <div id=\"df-bd495790-4a0a-4654-842f-fdb77f37253c\" class=\"colab-df-container\">\n",
              "    <div>\n",
              "<style scoped>\n",
              "    .dataframe tbody tr th:only-of-type {\n",
              "        vertical-align: middle;\n",
              "    }\n",
              "\n",
              "    .dataframe tbody tr th {\n",
              "        vertical-align: top;\n",
              "    }\n",
              "\n",
              "    .dataframe thead th {\n",
              "        text-align: right;\n",
              "    }\n",
              "</style>\n",
              "<table border=\"1\" class=\"dataframe\">\n",
              "  <thead>\n",
              "    <tr style=\"text-align: right;\">\n",
              "      <th></th>\n",
              "      <th>ID</th>\n",
              "      <th>var3</th>\n",
              "      <th>var15</th>\n",
              "      <th>imp_ent_var16_ult1</th>\n",
              "      <th>imp_op_var39_comer_ult1</th>\n",
              "      <th>imp_op_var39_comer_ult3</th>\n",
              "      <th>imp_op_var40_comer_ult1</th>\n",
              "      <th>imp_op_var40_comer_ult3</th>\n",
              "      <th>imp_op_var40_efect_ult1</th>\n",
              "      <th>imp_op_var40_efect_ult3</th>\n",
              "      <th>...</th>\n",
              "      <th>saldo_medio_var33_hace2</th>\n",
              "      <th>saldo_medio_var33_hace3</th>\n",
              "      <th>saldo_medio_var33_ult1</th>\n",
              "      <th>saldo_medio_var33_ult3</th>\n",
              "      <th>saldo_medio_var44_hace2</th>\n",
              "      <th>saldo_medio_var44_hace3</th>\n",
              "      <th>saldo_medio_var44_ult1</th>\n",
              "      <th>saldo_medio_var44_ult3</th>\n",
              "      <th>var38</th>\n",
              "      <th>TARGET</th>\n",
              "    </tr>\n",
              "  </thead>\n",
              "  <tbody>\n",
              "    <tr>\n",
              "      <th>0</th>\n",
              "      <td>1</td>\n",
              "      <td>2</td>\n",
              "      <td>23</td>\n",
              "      <td>0.0</td>\n",
              "      <td>0.0</td>\n",
              "      <td>0.0</td>\n",
              "      <td>0.0</td>\n",
              "      <td>0.0</td>\n",
              "      <td>0.0</td>\n",
              "      <td>0.0</td>\n",
              "      <td>...</td>\n",
              "      <td>0.0</td>\n",
              "      <td>0.0</td>\n",
              "      <td>0.0</td>\n",
              "      <td>0.0</td>\n",
              "      <td>0.0</td>\n",
              "      <td>0.0</td>\n",
              "      <td>0.0</td>\n",
              "      <td>0.0</td>\n",
              "      <td>39205.170000</td>\n",
              "      <td>0</td>\n",
              "    </tr>\n",
              "    <tr>\n",
              "      <th>1</th>\n",
              "      <td>3</td>\n",
              "      <td>2</td>\n",
              "      <td>34</td>\n",
              "      <td>0.0</td>\n",
              "      <td>0.0</td>\n",
              "      <td>0.0</td>\n",
              "      <td>0.0</td>\n",
              "      <td>0.0</td>\n",
              "      <td>0.0</td>\n",
              "      <td>0.0</td>\n",
              "      <td>...</td>\n",
              "      <td>0.0</td>\n",
              "      <td>0.0</td>\n",
              "      <td>0.0</td>\n",
              "      <td>0.0</td>\n",
              "      <td>0.0</td>\n",
              "      <td>0.0</td>\n",
              "      <td>0.0</td>\n",
              "      <td>0.0</td>\n",
              "      <td>49278.030000</td>\n",
              "      <td>0</td>\n",
              "    </tr>\n",
              "    <tr>\n",
              "      <th>2</th>\n",
              "      <td>4</td>\n",
              "      <td>2</td>\n",
              "      <td>23</td>\n",
              "      <td>0.0</td>\n",
              "      <td>0.0</td>\n",
              "      <td>0.0</td>\n",
              "      <td>0.0</td>\n",
              "      <td>0.0</td>\n",
              "      <td>0.0</td>\n",
              "      <td>0.0</td>\n",
              "      <td>...</td>\n",
              "      <td>0.0</td>\n",
              "      <td>0.0</td>\n",
              "      <td>0.0</td>\n",
              "      <td>0.0</td>\n",
              "      <td>0.0</td>\n",
              "      <td>0.0</td>\n",
              "      <td>0.0</td>\n",
              "      <td>0.0</td>\n",
              "      <td>67333.770000</td>\n",
              "      <td>0</td>\n",
              "    </tr>\n",
              "    <tr>\n",
              "      <th>3</th>\n",
              "      <td>8</td>\n",
              "      <td>2</td>\n",
              "      <td>37</td>\n",
              "      <td>0.0</td>\n",
              "      <td>195.0</td>\n",
              "      <td>195.0</td>\n",
              "      <td>0.0</td>\n",
              "      <td>0.0</td>\n",
              "      <td>0.0</td>\n",
              "      <td>0.0</td>\n",
              "      <td>...</td>\n",
              "      <td>0.0</td>\n",
              "      <td>0.0</td>\n",
              "      <td>0.0</td>\n",
              "      <td>0.0</td>\n",
              "      <td>0.0</td>\n",
              "      <td>0.0</td>\n",
              "      <td>0.0</td>\n",
              "      <td>0.0</td>\n",
              "      <td>64007.970000</td>\n",
              "      <td>0</td>\n",
              "    </tr>\n",
              "    <tr>\n",
              "      <th>4</th>\n",
              "      <td>10</td>\n",
              "      <td>2</td>\n",
              "      <td>39</td>\n",
              "      <td>0.0</td>\n",
              "      <td>0.0</td>\n",
              "      <td>0.0</td>\n",
              "      <td>0.0</td>\n",
              "      <td>0.0</td>\n",
              "      <td>0.0</td>\n",
              "      <td>0.0</td>\n",
              "      <td>...</td>\n",
              "      <td>0.0</td>\n",
              "      <td>0.0</td>\n",
              "      <td>0.0</td>\n",
              "      <td>0.0</td>\n",
              "      <td>0.0</td>\n",
              "      <td>0.0</td>\n",
              "      <td>0.0</td>\n",
              "      <td>0.0</td>\n",
              "      <td>117310.979016</td>\n",
              "      <td>0</td>\n",
              "    </tr>\n",
              "  </tbody>\n",
              "</table>\n",
              "<p>5 rows × 371 columns</p>\n",
              "</div>\n",
              "    <div class=\"colab-df-buttons\">\n",
              "\n",
              "  <div class=\"colab-df-container\">\n",
              "    <button class=\"colab-df-convert\" onclick=\"convertToInteractive('df-bd495790-4a0a-4654-842f-fdb77f37253c')\"\n",
              "            title=\"Convert this dataframe to an interactive table.\"\n",
              "            style=\"display:none;\">\n",
              "\n",
              "  <svg xmlns=\"http://www.w3.org/2000/svg\" height=\"24px\" viewBox=\"0 -960 960 960\">\n",
              "    <path d=\"M120-120v-720h720v720H120Zm60-500h600v-160H180v160Zm220 220h160v-160H400v160Zm0 220h160v-160H400v160ZM180-400h160v-160H180v160Zm440 0h160v-160H620v160ZM180-180h160v-160H180v160Zm440 0h160v-160H620v160Z\"/>\n",
              "  </svg>\n",
              "    </button>\n",
              "\n",
              "  <style>\n",
              "    .colab-df-container {\n",
              "      display:flex;\n",
              "      gap: 12px;\n",
              "    }\n",
              "\n",
              "    .colab-df-convert {\n",
              "      background-color: #E8F0FE;\n",
              "      border: none;\n",
              "      border-radius: 50%;\n",
              "      cursor: pointer;\n",
              "      display: none;\n",
              "      fill: #1967D2;\n",
              "      height: 32px;\n",
              "      padding: 0 0 0 0;\n",
              "      width: 32px;\n",
              "    }\n",
              "\n",
              "    .colab-df-convert:hover {\n",
              "      background-color: #E2EBFA;\n",
              "      box-shadow: 0px 1px 2px rgba(60, 64, 67, 0.3), 0px 1px 3px 1px rgba(60, 64, 67, 0.15);\n",
              "      fill: #174EA6;\n",
              "    }\n",
              "\n",
              "    .colab-df-buttons div {\n",
              "      margin-bottom: 4px;\n",
              "    }\n",
              "\n",
              "    [theme=dark] .colab-df-convert {\n",
              "      background-color: #3B4455;\n",
              "      fill: #D2E3FC;\n",
              "    }\n",
              "\n",
              "    [theme=dark] .colab-df-convert:hover {\n",
              "      background-color: #434B5C;\n",
              "      box-shadow: 0px 1px 3px 1px rgba(0, 0, 0, 0.15);\n",
              "      filter: drop-shadow(0px 1px 2px rgba(0, 0, 0, 0.3));\n",
              "      fill: #FFFFFF;\n",
              "    }\n",
              "  </style>\n",
              "\n",
              "    <script>\n",
              "      const buttonEl =\n",
              "        document.querySelector('#df-bd495790-4a0a-4654-842f-fdb77f37253c button.colab-df-convert');\n",
              "      buttonEl.style.display =\n",
              "        google.colab.kernel.accessAllowed ? 'block' : 'none';\n",
              "\n",
              "      async function convertToInteractive(key) {\n",
              "        const element = document.querySelector('#df-bd495790-4a0a-4654-842f-fdb77f37253c');\n",
              "        const dataTable =\n",
              "          await google.colab.kernel.invokeFunction('convertToInteractive',\n",
              "                                                    [key], {});\n",
              "        if (!dataTable) return;\n",
              "\n",
              "        const docLinkHtml = 'Like what you see? Visit the ' +\n",
              "          '<a target=\"_blank\" href=https://colab.research.google.com/notebooks/data_table.ipynb>data table notebook</a>'\n",
              "          + ' to learn more about interactive tables.';\n",
              "        element.innerHTML = '';\n",
              "        dataTable['output_type'] = 'display_data';\n",
              "        await google.colab.output.renderOutput(dataTable, element);\n",
              "        const docLink = document.createElement('div');\n",
              "        docLink.innerHTML = docLinkHtml;\n",
              "        element.appendChild(docLink);\n",
              "      }\n",
              "    </script>\n",
              "  </div>\n",
              "\n",
              "\n",
              "<div id=\"df-fadc0e96-b91c-47e5-9e5e-cb7b6043081e\">\n",
              "  <button class=\"colab-df-quickchart\" onclick=\"quickchart('df-fadc0e96-b91c-47e5-9e5e-cb7b6043081e')\"\n",
              "            title=\"Suggest charts\"\n",
              "            style=\"display:none;\">\n",
              "\n",
              "<svg xmlns=\"http://www.w3.org/2000/svg\" height=\"24px\"viewBox=\"0 0 24 24\"\n",
              "     width=\"24px\">\n",
              "    <g>\n",
              "        <path d=\"M19 3H5c-1.1 0-2 .9-2 2v14c0 1.1.9 2 2 2h14c1.1 0 2-.9 2-2V5c0-1.1-.9-2-2-2zM9 17H7v-7h2v7zm4 0h-2V7h2v10zm4 0h-2v-4h2v4z\"/>\n",
              "    </g>\n",
              "</svg>\n",
              "  </button>\n",
              "\n",
              "<style>\n",
              "  .colab-df-quickchart {\n",
              "      --bg-color: #E8F0FE;\n",
              "      --fill-color: #1967D2;\n",
              "      --hover-bg-color: #E2EBFA;\n",
              "      --hover-fill-color: #174EA6;\n",
              "      --disabled-fill-color: #AAA;\n",
              "      --disabled-bg-color: #DDD;\n",
              "  }\n",
              "\n",
              "  [theme=dark] .colab-df-quickchart {\n",
              "      --bg-color: #3B4455;\n",
              "      --fill-color: #D2E3FC;\n",
              "      --hover-bg-color: #434B5C;\n",
              "      --hover-fill-color: #FFFFFF;\n",
              "      --disabled-bg-color: #3B4455;\n",
              "      --disabled-fill-color: #666;\n",
              "  }\n",
              "\n",
              "  .colab-df-quickchart {\n",
              "    background-color: var(--bg-color);\n",
              "    border: none;\n",
              "    border-radius: 50%;\n",
              "    cursor: pointer;\n",
              "    display: none;\n",
              "    fill: var(--fill-color);\n",
              "    height: 32px;\n",
              "    padding: 0;\n",
              "    width: 32px;\n",
              "  }\n",
              "\n",
              "  .colab-df-quickchart:hover {\n",
              "    background-color: var(--hover-bg-color);\n",
              "    box-shadow: 0 1px 2px rgba(60, 64, 67, 0.3), 0 1px 3px 1px rgba(60, 64, 67, 0.15);\n",
              "    fill: var(--button-hover-fill-color);\n",
              "  }\n",
              "\n",
              "  .colab-df-quickchart-complete:disabled,\n",
              "  .colab-df-quickchart-complete:disabled:hover {\n",
              "    background-color: var(--disabled-bg-color);\n",
              "    fill: var(--disabled-fill-color);\n",
              "    box-shadow: none;\n",
              "  }\n",
              "\n",
              "  .colab-df-spinner {\n",
              "    border: 2px solid var(--fill-color);\n",
              "    border-color: transparent;\n",
              "    border-bottom-color: var(--fill-color);\n",
              "    animation:\n",
              "      spin 1s steps(1) infinite;\n",
              "  }\n",
              "\n",
              "  @keyframes spin {\n",
              "    0% {\n",
              "      border-color: transparent;\n",
              "      border-bottom-color: var(--fill-color);\n",
              "      border-left-color: var(--fill-color);\n",
              "    }\n",
              "    20% {\n",
              "      border-color: transparent;\n",
              "      border-left-color: var(--fill-color);\n",
              "      border-top-color: var(--fill-color);\n",
              "    }\n",
              "    30% {\n",
              "      border-color: transparent;\n",
              "      border-left-color: var(--fill-color);\n",
              "      border-top-color: var(--fill-color);\n",
              "      border-right-color: var(--fill-color);\n",
              "    }\n",
              "    40% {\n",
              "      border-color: transparent;\n",
              "      border-right-color: var(--fill-color);\n",
              "      border-top-color: var(--fill-color);\n",
              "    }\n",
              "    60% {\n",
              "      border-color: transparent;\n",
              "      border-right-color: var(--fill-color);\n",
              "    }\n",
              "    80% {\n",
              "      border-color: transparent;\n",
              "      border-right-color: var(--fill-color);\n",
              "      border-bottom-color: var(--fill-color);\n",
              "    }\n",
              "    90% {\n",
              "      border-color: transparent;\n",
              "      border-bottom-color: var(--fill-color);\n",
              "    }\n",
              "  }\n",
              "</style>\n",
              "\n",
              "  <script>\n",
              "    async function quickchart(key) {\n",
              "      const quickchartButtonEl =\n",
              "        document.querySelector('#' + key + ' button');\n",
              "      quickchartButtonEl.disabled = true;  // To prevent multiple clicks.\n",
              "      quickchartButtonEl.classList.add('colab-df-spinner');\n",
              "      try {\n",
              "        const charts = await google.colab.kernel.invokeFunction(\n",
              "            'suggestCharts', [key], {});\n",
              "      } catch (error) {\n",
              "        console.error('Error during call to suggestCharts:', error);\n",
              "      }\n",
              "      quickchartButtonEl.classList.remove('colab-df-spinner');\n",
              "      quickchartButtonEl.classList.add('colab-df-quickchart-complete');\n",
              "    }\n",
              "    (() => {\n",
              "      let quickchartButtonEl =\n",
              "        document.querySelector('#df-fadc0e96-b91c-47e5-9e5e-cb7b6043081e button');\n",
              "      quickchartButtonEl.style.display =\n",
              "        google.colab.kernel.accessAllowed ? 'block' : 'none';\n",
              "    })();\n",
              "  </script>\n",
              "</div>\n",
              "    </div>\n",
              "  </div>\n"
            ],
            "application/vnd.google.colaboratory.intrinsic+json": {
              "type": "dataframe",
              "variable_name": "data"
            }
          },
          "metadata": {},
          "execution_count": 5
        }
      ]
    },
    {
      "cell_type": "code",
      "source": [
        "X = data.drop('TARGET', axis = 1)\n",
        "y = data['TARGET']\n",
        "\n",
        "X.shape, y.shape"
      ],
      "metadata": {
        "colab": {
          "base_uri": "https://localhost:8080/"
        },
        "id": "CnCNVPZ35S1j",
        "outputId": "277380d7-3cbf-480f-e168-31f7432db40e"
      },
      "execution_count": null,
      "outputs": [
        {
          "output_type": "execute_result",
          "data": {
            "text/plain": [
              "((76020, 370), (76020,))"
            ]
          },
          "metadata": {},
          "execution_count": 6
        }
      ]
    },
    {
      "cell_type": "code",
      "source": [
        "X_train, X_test, y_train, y_test = train_test_split(X, y, test_size = 0.2, random_state = 0, stratify = y)"
      ],
      "metadata": {
        "id": "Djt8FiKf5T6G"
      },
      "execution_count": null,
      "outputs": []
    },
    {
      "cell_type": "code",
      "source": [
        "constant_filter = VarianceThreshold(threshold= 0.01)\n",
        "constant_filter.fit(X_train)\n",
        "X_train_filter = constant_filter.transform(X_train)\n",
        "X_test_filter = constant_filter.transform(X_test)"
      ],
      "metadata": {
        "id": "AtRqKOK9_p2v"
      },
      "execution_count": null,
      "outputs": []
    },
    {
      "cell_type": "code",
      "source": [
        "X_train_filter.shape, X_test_filter.shape"
      ],
      "metadata": {
        "colab": {
          "base_uri": "https://localhost:8080/"
        },
        "id": "csoo_FR0_qBU",
        "outputId": "c0ce1219-278c-4211-bf5c-9665e3e95199"
      },
      "execution_count": null,
      "outputs": [
        {
          "output_type": "execute_result",
          "data": {
            "text/plain": [
              "((60816, 274), (15204, 274))"
            ]
          },
          "metadata": {},
          "execution_count": 9
        }
      ]
    },
    {
      "cell_type": "code",
      "source": [
        "X_train_T = pd.DataFrame(X_train_filter.T)\n",
        "X_test_T = pd.DataFrame(X_test_filter.T)"
      ],
      "metadata": {
        "id": "S-lFxQpE_qES"
      },
      "execution_count": null,
      "outputs": []
    },
    {
      "cell_type": "code",
      "source": [
        "X_train_T.duplicated().sum()"
      ],
      "metadata": {
        "colab": {
          "base_uri": "https://localhost:8080/"
        },
        "id": "gq2zItt1_qGx",
        "outputId": "40c76f09-7899-4eef-ee03-94683ce638dc"
      },
      "execution_count": null,
      "outputs": [
        {
          "output_type": "execute_result",
          "data": {
            "text/plain": [
              "17"
            ]
          },
          "metadata": {},
          "execution_count": 11
        }
      ]
    },
    {
      "cell_type": "code",
      "source": [
        "duplicated_features = X_train_T.duplicated()"
      ],
      "metadata": {
        "id": "onWbeZ5AAp41"
      },
      "execution_count": null,
      "outputs": []
    },
    {
      "cell_type": "code",
      "source": [
        "features_to_keep = [not index for index in duplicated_features]\n",
        "X_train_unique = X_train_T[features_to_keep].T\n",
        "X_test_unique = X_test_T[features_to_keep].T"
      ],
      "metadata": {
        "id": "GVC_edxiAp7i"
      },
      "execution_count": null,
      "outputs": []
    },
    {
      "cell_type": "code",
      "source": [
        "X_train_unique.shape, X_test_unique.shape"
      ],
      "metadata": {
        "colab": {
          "base_uri": "https://localhost:8080/"
        },
        "id": "xHPcmcXMAp9-",
        "outputId": "e0bbb27a-9d83-47e7-8f4f-b3c4b3d5aaa2"
      },
      "execution_count": null,
      "outputs": [
        {
          "output_type": "execute_result",
          "data": {
            "text/plain": [
              "((60816, 257), (15204, 257))"
            ]
          },
          "metadata": {},
          "execution_count": 14
        }
      ]
    },
    {
      "cell_type": "code",
      "source": [
        "sel = f_classif(X_train_unique, y_train)"
      ],
      "metadata": {
        "id": "VttEAtipAqAj"
      },
      "execution_count": null,
      "outputs": []
    },
    {
      "cell_type": "code",
      "source": [
        "p_values = pd.Series(sel[1])\n",
        "p_values.index = X_train_unique.columns\n",
        "p_values.sort_values(ascending = True, inplace = True)"
      ],
      "metadata": {
        "id": "cxmnSbzNAqC6"
      },
      "execution_count": null,
      "outputs": []
    },
    {
      "cell_type": "code",
      "source": [
        "p_values.plot.bar(figsize = (16,5))"
      ],
      "metadata": {
        "colab": {
          "base_uri": "https://localhost:8080/",
          "height": 459
        },
        "id": "tEyFpCLtAqGC",
        "outputId": "59d111e5-680c-4777-9ff4-5f3a9d75114b"
      },
      "execution_count": null,
      "outputs": [
        {
          "output_type": "execute_result",
          "data": {
            "text/plain": [
              "<Axes: >"
            ]
          },
          "metadata": {},
          "execution_count": 17
        },
        {
          "output_type": "display_data",
          "data": {
            "text/plain": [
              "<Figure size 1600x500 with 1 Axes>"
            ],
            "image/png": "[encoded data removed]"
          },
          "metadata": {}
        }
      ]
    },
    {
      "cell_type": "code",
      "source": [
        "p_values = p_values[p_values<1e-21]\n",
        "len(p_values.index)"
      ],
      "metadata": {
        "colab": {
          "base_uri": "https://localhost:8080/"
        },
        "id": "c1fm0sgzCk9J",
        "outputId": "981598e8-f08b-418a-a249-ce595a776a2f"
      },
      "execution_count": null,
      "outputs": [
        {
          "output_type": "execute_result",
          "data": {
            "text/plain": [
              "17"
            ]
          },
          "metadata": {},
          "execution_count": 38
        }
      ]
    },
    {
      "cell_type": "code",
      "source": [
        "X_train_p = X_train_unique[p_values.index]\n",
        "X_test_p = X_test_unique[p_values.index]"
      ],
      "metadata": {
        "id": "93ie1AWxCusM"
      },
      "execution_count": null,
      "outputs": []
    },
    {
      "cell_type": "code",
      "source": [
        "from sklearn.feature_selection import mutual_info_regression\n",
        "\n",
        "mi = mutual_info_regression(X_train_unique, y_train)\n",
        "mi /= np.max(mi)"
      ],
      "metadata": {
        "id": "PXQtRRU2GFrV"
      },
      "execution_count": null,
      "outputs": []
    },
    {
      "cell_type": "code",
      "source": [
        "mi_values = pd.Series(mi)\n",
        "mi_values.index = X_train_unique.columns\n",
        "mi_values.sort_values(ascending = True, inplace = True)\n",
        "mi_values.plot.bar(figsize = (16,5))"
      ],
      "metadata": {
        "colab": {
          "base_uri": "https://localhost:8080/",
          "height": 459
        },
        "id": "W3crlPKrGFuG",
        "outputId": "e5c484a6-da8a-434b-f739-d2470fbee56f"
      },
      "execution_count": null,
      "outputs": [
        {
          "output_type": "execute_result",
          "data": {
            "text/plain": [
              "<Axes: >"
            ]
          },
          "metadata": {},
          "execution_count": 52
        },
        {
          "output_type": "display_data",
          "data": {
            "text/plain": [
              "<Figure size 1600x500 with 1 Axes>"
            ],
            "image/png": "[encoded data removed]"
          },
          "metadata": {}
        }
      ]
    },
    {
      "cell_type": "code",
      "source": [
        "mi_values = mi_values[mi_values>0.5]\n",
        "len(mi_values.index)"
      ],
      "metadata": {
        "id": "B55lMt9xGPCw",
        "colab": {
          "base_uri": "https://localhost:8080/"
        },
        "outputId": "852b4a94-823b-4568-895e-659e0836c2ed"
      },
      "execution_count": null,
      "outputs": [
        {
          "output_type": "execute_result",
          "data": {
            "text/plain": [
              "8"
            ]
          },
          "metadata": {},
          "execution_count": 57
        }
      ]
    },
    {
      "cell_type": "code",
      "source": [
        "X_train_mi = X_train_unique[mi_values.index]\n",
        "X_test_mi = X_test_unique[mi_values.index]"
      ],
      "metadata": {
        "id": "EJaL8P6itayk"
      },
      "execution_count": null,
      "outputs": []
    },
    {
      "cell_type": "code",
      "source": [
        "def run_RandomForest(X_train, X_test, y_train, y_test):\n",
        "    clf = RandomForestClassifier(n_estimators = 200, random_state = 0, n_jobs = -1)\n",
        "    clf.fit(X_train, y_train)\n",
        "    y_pred = clf.predict(X_test)\n",
        "    print('Accuracy: ', accuracy_score(y_test, y_pred))"
      ],
      "metadata": {
        "id": "2tZAjQidC8Us"
      },
      "execution_count": null,
      "outputs": []
    },
    {
      "cell_type": "code",
      "source": [
        "%%time\n",
        "run_RandomForest(X_train_p, X_test_p, y_train, y_test)"
      ],
      "metadata": {
        "colab": {
          "base_uri": "https://localhost:8080/"
        },
        "id": "jd6sCXIdDilj",
        "outputId": "fb4a72e1-2cd4-4f5b-ed8d-226515c82ba6"
      },
      "execution_count": null,
      "outputs": [
        {
          "output_type": "stream",
          "name": "stdout",
          "text": [
            "Accuracy:  0.9585635359116023\n",
            "CPU times: user 10.1 s, sys: 104 ms, total: 10.2 s\n",
            "Wall time: 5.46 s\n"
          ]
        }
      ]
    },
    {
      "cell_type": "code",
      "source": [
        "%%time\n",
        "run_RandomForest(X_train, X_test, y_train, y_test)"
      ],
      "metadata": {
        "colab": {
          "base_uri": "https://localhost:8080/"
        },
        "id": "XlSDtfzgDsmZ",
        "outputId": "9b8930ff-0420-4fea-ebe2-9ab650a0efa5"
      },
      "execution_count": null,
      "outputs": [
        {
          "output_type": "stream",
          "name": "stdout",
          "text": [
            "Accuracy:  0.9579058142594055\n",
            "CPU times: user 1min 4s, sys: 326 ms, total: 1min 5s\n",
            "Wall time: 36.6 s\n"
          ]
        }
      ]
    },
    {
      "cell_type": "code",
      "source": [
        "%%time\n",
        "run_RandomForest(X_train_mi, X_test_mi, y_train, y_test)"
      ],
      "metadata": {
        "colab": {
          "base_uri": "https://localhost:8080/"
        },
        "id": "TW7n_bJlFcfR",
        "outputId": "4c3cd8ae-739b-421e-d6d3-28eadac1969b"
      },
      "execution_count": null,
      "outputs": [
        {
          "output_type": "stream",
          "name": "stdout",
          "text": [
            "Accuracy:  0.9588266245724809\n",
            "CPU times: user 20.4 s, sys: 98.7 ms, total: 20.5 s\n",
            "Wall time: 12 s\n"
          ]
        }
      ]
    },
    {
      "cell_type": "code",
      "source": [],
      "metadata": {
        "id": "Hh5q2kcJDvRz"
      },
      "execution_count": null,
      "outputs": []
    },
    {
      "cell_type": "code",
      "source": [],
      "metadata": {
        "id": "B5xe4MkXFZz6"
      },
      "execution_count": null,
      "outputs": []
    }
  ],
  "metadata": {
    "kernelspec": {
      "display_name": "Python 3",
      "language": "python",
      "name": "python3"
    },
    "language_info": {
      "codemirror_mode": {
        "name": "ipython",
        "version": 3
      },
      "file_extension": ".py",
      "mimetype": "text/x-python",
      "name": "python",
      "nbconvert_exporter": "python",
      "pygments_lexer": "ipython3",
      "version": "3.8.5"
    },
    "colab": {
      "provenance": []
    }
  },
  "nbformat": 4,
  "nbformat_minor": 0
}