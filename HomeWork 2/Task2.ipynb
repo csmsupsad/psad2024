{
 "cells": [
  {
   "cell_type": "markdown",
   "metadata": {
    "id": "HTNWfrJIWUvQ"
   },
   "source": [
    "## Здравствуйте, меня зовут *Имя Фамилия*, вот моё Задание №2 по курсу ПСАД-2022!"
   ]
  },
  {
   "cell_type": "markdown",
   "metadata": {
    "id": "GNFZh_x53ba6"
   },
   "source": [
    "При выполнении задания Вам могут понадобиться три функции: \n",
    "\n",
    "\n",
    "*   draw_linear для того, чтобы отобразить на плоскости зависимость двух величин\n",
    "*   draw_cm для построения матрицы ошибок (confusion matrix)\n",
    "*   apply_pair_statistics для того, чтобы вычислить требуемую статистику для всех пар в указанном датасете\n",
    "\n"
   ]
  },
  {
   "cell_type": "code",
   "execution_count": 1,
   "metadata": {
    "id": "oOuIRZk2WUvS"
   },
   "outputs": [],
   "source": [
    "import pandas as pd\n",
    "import numpy as np\n",
    "from matplotlib import pyplot as plt\n",
    "\n",
    "import seaborn as sns\n",
    "sns.set()\n",
    "\n",
    "%matplotlib inline\n",
    "%config InlineBackend.figure_format = 'svg' "
   ]
  },
  {
   "cell_type": "code",
   "execution_count": 2,
   "metadata": {
    "id": "oPFV4Cm1WUvS"
   },
   "outputs": [],
   "source": [
    "from scipy.stats import linregress\n",
    "\n",
    "def draw_linear(x, y, x_name='', y_name=''):\n",
    "    \"Scatter x-y points and draw a LR line.\"\n",
    "    slope, intercept, r, _, _ = linregress(x, y)\n",
    "    x_lims = np.array([x.min() - 1, x.max() + 1])\n",
    "    plt.xlabel(x_name)\n",
    "    plt.ylabel(y_name)\n",
    "    plt.plot(x, y, 'g+', label='Objects')\n",
    "    plt.plot(x_lims, intercept + slope * x_lims, 'r--', label=r\"LR line with $\\rho \\approx {:.3f}$\".format(r))\n",
    "    plt.legend()\n",
    "    plt.show()"
   ]
  },
  {
   "cell_type": "code",
   "execution_count": 3,
   "metadata": {
    "id": "T2ZSnUW_WUvS"
   },
   "outputs": [],
   "source": [
    "from sklearn.metrics import confusion_matrix\n",
    "\n",
    "def draw_cm(x_bin, y_bin, x_name='', y_name=''):\n",
    "    \"Draw a confusion matrix for binary 1-D arrays x_bin and y_bin.\"\n",
    "    cm = confusion_matrix(x_bin, y_bin)\n",
    "    plt.matshow(cm)\n",
    "    plt.xlabel(x_name)\n",
    "    plt.ylabel(y_name)\n",
    "    plt.colorbar()\n",
    "    plt.grid(False)\n",
    "    plt.show()"
   ]
  },
  {
   "cell_type": "code",
   "execution_count": 4,
   "metadata": {
    "id": "Xf7asTk7WUvT"
   },
   "outputs": [],
   "source": [
    "from itertools import combinations\n",
    "from collections import defaultdict\n",
    "\n",
    "def apply_pair_statistics(S, pair_statistics, statistics_names):\n",
    "    \"\"\"Apply pair statistics to each pair in a dataset S \n",
    "    and return a DataFrame containing the results.\n",
    "    \n",
    "    Parameters\n",
    "    ----------\n",
    "    S: array of shape (N, D)\n",
    "        A dataset numpy array.\n",
    "    pair_statistics: list of callables\n",
    "        A list of statistics -- functions requiring two array arguments (x and y) \n",
    "        and returning a number (statistic's value)\n",
    "    statistics_names: list of strings\n",
    "        A list of statistics names.\n",
    "    \"\"\"\n",
    "    res = defaultdict(list)\n",
    "\n",
    "    for i, j in combinations(range(S.shape[1]), 2):\n",
    "        x_name, y_name = f'X{i+1}', f'X{j+1}'\n",
    "        x, y = S.T[i], S.T[j]\n",
    "        res[\"Pair\"].append(x_name + ' - ' + y_name)\n",
    "        for statistic, name in zip(pair_statistics, statistics_names):\n",
    "            res[name].append(statistic(x, y))\n",
    "\n",
    "    res = pd.DataFrame(res)\n",
    "    return res"
   ]
  },
  {
   "cell_type": "markdown",
   "metadata": {
    "id": "NX-iRCahWUvT"
   },
   "source": [
    "## Часть 1"
   ]
  },
  {
   "cell_type": "markdown",
   "metadata": {
    "id": "jIX-MXxVWUvU"
   },
   "source": [
    "В этой части мы воспользуемся набором данных $\\widetilde{S}$, хранящемся в файле data. Данный набор содержит 4 связанных выборки случайных переменных: $X_1, X_2, X_3$ и $X_4$."
   ]
  },
  {
   "cell_type": "code",
   "execution_count": 6,
   "metadata": {
    "id": "HVBfybdaWUvU"
   },
   "outputs": [],
   "source": [
    "S = np.load('data', allow_pickle=True)"
   ]
  },
  {
   "cell_type": "markdown",
   "metadata": {
    "id": "Ct27PxrYWUvU"
   },
   "source": [
    "### Задача 1  "
   ]
  },
  {
   "cell_type": "markdown",
   "metadata": {
    "id": "PlkbUIGMWUvU"
   },
   "source": [
    "Реализуйте функцию pearson, которая возвращает значение корреляции Пирсона для двух выборок. Воспользуйтесь функцией apply_pair_statistics для применения данной функции к набору данных $\\widetilde{S}$."
   ]
  },
  {
   "cell_type": "code",
   "execution_count": null,
   "metadata": {
    "id": "1UsQP4eMWUvV",
    "outputId": "642d062f-acf6-41c2-f243-f9d7f4af12a7"
   },
   "outputs": [
    {
     "data": {
      "text/html": [
       "<div>\n",
       "<style scoped>\n",
       "    .dataframe tbody tr th:only-of-type {\n",
       "        vertical-align: middle;\n",
       "    }\n",
       "\n",
       "    .dataframe tbody tr th {\n",
       "        vertical-align: top;\n",
       "    }\n",
       "\n",
       "    .dataframe thead th {\n",
       "        text-align: right;\n",
       "    }\n",
       "</style>\n",
       "<table border=\"1\" class=\"dataframe\">\n",
       "  <thead>\n",
       "    <tr style=\"text-align: right;\">\n",
       "      <th></th>\n",
       "      <th>Pair</th>\n",
       "      <th>Pearson</th>\n",
       "    </tr>\n",
       "  </thead>\n",
       "  <tbody>\n",
       "    <tr>\n",
       "      <th>0</th>\n",
       "      <td>X1 - X2</td>\n",
       "      <td>None</td>\n",
       "    </tr>\n",
       "    <tr>\n",
       "      <th>1</th>\n",
       "      <td>X1 - X3</td>\n",
       "      <td>None</td>\n",
       "    </tr>\n",
       "    <tr>\n",
       "      <th>2</th>\n",
       "      <td>X1 - X4</td>\n",
       "      <td>None</td>\n",
       "    </tr>\n",
       "    <tr>\n",
       "      <th>3</th>\n",
       "      <td>X2 - X3</td>\n",
       "      <td>None</td>\n",
       "    </tr>\n",
       "    <tr>\n",
       "      <th>4</th>\n",
       "      <td>X2 - X4</td>\n",
       "      <td>None</td>\n",
       "    </tr>\n",
       "    <tr>\n",
       "      <th>5</th>\n",
       "      <td>X3 - X4</td>\n",
       "      <td>None</td>\n",
       "    </tr>\n",
       "  </tbody>\n",
       "</table>\n",
       "</div>"
      ],
      "text/plain": [
       "      Pair Pearson\n",
       "0  X1 - X2    None\n",
       "1  X1 - X3    None\n",
       "2  X1 - X4    None\n",
       "3  X2 - X3    None\n",
       "4  X2 - X4    None\n",
       "5  X3 - X4    None"
      ]
     },
     "execution_count": 8,
     "metadata": {
      "tags": []
     },
     "output_type": "execute_result"
    }
   ],
   "source": [
    "def pearson(x, y):\n",
    "    \"Calculate a Pearson correlation coefficient given 1-D data arrays x and y.\"\n",
    "    # TODO: implement me!!!\n",
    "    pass\n",
    "\n",
    "res_pearson = apply_pair_statistics(S, [pearson], ['Pearson'])\n",
    "res_pearson"
   ]
  },
  {
   "cell_type": "markdown",
   "metadata": {
    "id": "HJGT8Eki8YX-"
   },
   "source": [
    "Какие выводы Вы можете сделать по этим результатам?\n",
    "\n",
    "Выводы: ***Ваши мысли тут*** \\\\(^_^)/"
   ]
  },
  {
   "cell_type": "markdown",
   "metadata": {
    "id": "29nJI2nGWUvV"
   },
   "source": [
    "Реализуйте функцию rank, которая принимает на вход список чисел, а возвращает список, содержащий ранги соответствующих чисел в исходном ряду (порядковый номер в вариационном ряду).\n",
    "Не забудьте, что если входной массив чисел содержит повторяющиеся значения, то им присваивается усреднённый ранк.\n",
    "\n",
    "Пример: \\\\\n",
    "вход:  [5, 4, 4, 2, 7] \\\\\n",
    "выход: [4, 2.5, 2.5, 1, 5]\n",
    "\n",
    "Примените данную функцию ко всем выборкам из $\\widetilde{S}$. Полученный набор данных назовём $\\widetilde{S_r}$."
   ]
  },
  {
   "cell_type": "code",
   "execution_count": null,
   "metadata": {
    "id": "QEnPjt3jWUvW"
   },
   "outputs": [],
   "source": [
    "def rank(x):\n",
    "    \"Assign ranks to data and return the resulting ranking array.\"\n",
    "    # TODO: implement me!!!\n",
    "    pass\n",
    "\n",
    "S_r = np.array([rank(x) for x in S.T]).T"
   ]
  },
  {
   "cell_type": "markdown",
   "metadata": {
    "id": "nl8I7m-VWUvW"
   },
   "source": [
    "Для всех возможных пар выборок из $\\widetilde{S_r}$, вычислите коэффициенты корреляции Спирмена и Кендалла ($\\tau$-коэффициент)."
   ]
  },
  {
   "cell_type": "code",
   "execution_count": null,
   "metadata": {
    "id": "45K-RfBVWUvW"
   },
   "outputs": [],
   "source": [
    "def spearman(x_r, y_r):\n",
    "    \"Calculate a Spearman correlation coefficient given 1-D ranking arrays x_r and y_r.\"\n",
    "    # TODO: implement me!!!\n",
    "    pass\n",
    "\n",
    "def kendall(x_r, y_r):\n",
    "    \"Calculate a Kendall tau correlation coefficient given 1-D ranking arrays x_r and y_r.\"\n",
    "    # TODO: implement me!!!\n",
    "    pass\n",
    "\n",
    "res_ranked = apply_pair_statistics(S_r, [spearman, kendall], ['Spearman', 'Kendall'])\n",
    "res_ranked"
   ]
  },
  {
   "cell_type": "markdown",
   "metadata": {
    "id": "19W2F8LqWUvW"
   },
   "source": [
    "Проанализируйте полученные результаты. Сравните их с выводами, сделанными выше. Отобразите зависимость переменных на плоскости. Какие выводы Вы можете сделать по этим двум таблицам?\n",
    "\n",
    "При желании можно построить свои графики, вывести дополнительные результаты и провести дополнительный анализ."
   ]
  },
  {
   "cell_type": "code",
   "execution_count": null,
   "metadata": {
    "id": "hdjwMOQwWUvX"
   },
   "outputs": [],
   "source": [
    "res_final = pd.merge(res_pearson, res_ranked)\n",
    "res_final"
   ]
  },
  {
   "cell_type": "code",
   "execution_count": null,
   "metadata": {
    "id": "zIps7o9fWUvX"
   },
   "outputs": [],
   "source": [
    "draw_linear(S.T[0], S.T[1], 'X1', 'X2')\n",
    "draw_linear(S.T[0], S.T[1], 'X1', 'X3')\n",
    "draw_linear(S.T[0], S.T[1], 'X1', 'X4')\n",
    "draw_linear(S.T[1], S.T[2], 'X2', 'X3')\n",
    "draw_linear(S.T[1], S.T[2], 'X2', 'X4')\n",
    "draw_linear(S.T[2], S.T[3], 'X3', 'X4')\n",
    "\n",
    "draw_linear(S_r.T[0], S_r.T[1], 'X1', 'X2')\n",
    "draw_linear(S_r.T[0], S_r.T[1], 'X1', 'X3')\n",
    "draw_linear(S_r.T[0], S_r.T[1], 'X1', 'X4')\n",
    "draw_linear(S_r.T[1], S_r.T[2], 'X2', 'X3')\n",
    "draw_linear(S_r.T[1], S_r.T[2], 'X2', 'X4')\n",
    "draw_linear(S_r.T[2], S_r.T[3], 'X3', 'X4')\n"
   ]
  },
  {
   "cell_type": "markdown",
   "metadata": {
    "id": "fY7fLplAWUvX"
   },
   "source": [
    "**Выводы:**\n",
    "\n",
    "\n",
    "```\n",
    "                   ,%%%,\n",
    "                 ,%%%` %==--\n",
    "                ,%%`( '|\n",
    "               ,%%@ /\\_/\n",
    "     ,%.-\"\"\"--%%% \"@@__\n",
    "    %%/             |__`\\\n",
    "   .%'\\     |   \\   /  //\n",
    "   ,%' >   .'----\\ |  [/\n",
    "      < <<`       ||\n",
    "       `\\\\\\       ||\n",
    "         )\\\\      )\\\n",
    " ^^^^^^^^\"\"\"^^^^^^\"\"^^^^^^^^^\n",
    "```\n"
   ]
  },
  {
   "cell_type": "markdown",
   "metadata": {
    "id": "TCfuC60DWUvY"
   },
   "source": [
    "### Задача 2"
   ]
  },
  {
   "cell_type": "markdown",
   "metadata": {
    "id": "Oh908Fp-WUvY"
   },
   "source": [
    "Реализуйте функцию binarize, которая бинаризует выборку по указанному значению (заменяет значения, меньшие заданного, на 0; меняет на 1 числа, большие и равные заданному значению). Примените их к исходному набору данных, воспользовавшись в качестве значения для бинаризации медиану, и получите набор $\\widetilde{S_{bin}}$"
   ]
  },
  {
   "cell_type": "code",
   "execution_count": null,
   "metadata": {
    "id": "GFUZo0pOWUvY"
   },
   "outputs": [],
   "source": [
    "def binarize(x, value):\n",
    "    \"Binarize the array by the given value.\"\n",
    "    # TODO: implement me!!!\n",
    "    pass\n",
    "\n",
    "S_bin = np.array([binarize(x, np.median(x)) for x in S.T]).T"
   ]
  },
  {
   "cell_type": "markdown",
   "metadata": {
    "id": "SHaPN-RZWUvY"
   },
   "source": [
    "Вычислите для каждой пары бинаризованных переменных коэффициенты близости Жаккарда и $\\phi$."
   ]
  },
  {
   "cell_type": "code",
   "execution_count": null,
   "metadata": {
    "id": "YWhF-ve7WUvZ"
   },
   "outputs": [],
   "source": [
    "def jaccard(x_bin, y_bin):\n",
    "    \"Compute the Jaccard coefficient given 1-D boolean arrays x_bin and y_bin.\"\n",
    "    # TODO: implement me!!!\n",
    "    pass\n",
    "\n",
    "def phi(x_bin, y_bin):\n",
    "    \"Compute the phi coefficient given 1-D boolean arrays x_bin and y_bin.\"\n",
    "    # TODO: implement me!!!\n",
    "    pass\n",
    "\n",
    "res_bin = apply_pair_statistics(S_bin, [jaccard, phi], ['Jaccard', 'Phi'])\n",
    "res_bin"
   ]
  },
  {
   "cell_type": "markdown",
   "metadata": {
    "id": "o2mIJFmVWUvZ"
   },
   "source": [
    "Сделайте выводы по полученным результатам и приведённым ниже матрицам ошибок.\n",
    "\n",
    "При желании можно построить свои графики / вывести дополнительные результаты."
   ]
  },
  {
   "cell_type": "code",
   "execution_count": null,
   "metadata": {
    "id": "NSpaFsjkWUvZ"
   },
   "outputs": [],
   "source": [
    "draw_cm(S_bin.T[0], S_bin.T[1], 'X1', 'X2')\n",
    "draw_cm(S_bin.T[1], S_bin.T[2], 'X2', 'X3')\n",
    "draw_cm(S_bin.T[2], S_bin.T[3], 'X3', 'X4')"
   ]
  },
  {
   "cell_type": "markdown",
   "metadata": {
    "id": "VTvJn7EIWUva"
   },
   "source": [
    "**Выводы:**"
   ]
  },
  {
   "cell_type": "markdown",
   "metadata": {
    "id": "Ix1I5_oZWUva"
   },
   "source": [
    "\n",
    "(̿▀̿ ̿Ĺ̯̿̿▀̿ ̿)̄\n",
    "\n",
    "\n"
   ]
  },
  {
   "cell_type": "markdown",
   "metadata": {
    "id": "OLHPr9HpWUva"
   },
   "source": [
    "## Часть 2"
   ]
  },
  {
   "cell_type": "markdown",
   "metadata": {
    "id": "zhiyjrSJOteh"
   },
   "source": [
    "### Задача 3"
   ]
  },
  {
   "cell_type": "markdown",
   "metadata": {
    "id": "847G1LwFOwpe"
   },
   "source": [
    "Сравните две модели регрессий."
   ]
  },
  {
   "cell_type": "code",
   "execution_count": 8,
   "metadata": {
    "id": "gLrYyq-qWUvd",
    "outputId": "2fe6fbbc-fb4d-4ff4-b374-b345bd31e200"
   },
   "outputs": [
    {
     "data": {
      "text/html": [
       "<div>\n",
       "<style scoped>\n",
       "    .dataframe tbody tr th:only-of-type {\n",
       "        vertical-align: middle;\n",
       "    }\n",
       "\n",
       "    .dataframe tbody tr th {\n",
       "        vertical-align: top;\n",
       "    }\n",
       "\n",
       "    .dataframe thead th {\n",
       "        text-align: right;\n",
       "    }\n",
       "</style>\n",
       "<table border=\"1\" class=\"dataframe\">\n",
       "  <thead>\n",
       "    <tr style=\"text-align: right;\">\n",
       "      <th></th>\n",
       "      <th>err1</th>\n",
       "      <th>err2</th>\n",
       "    </tr>\n",
       "  </thead>\n",
       "  <tbody>\n",
       "    <tr>\n",
       "      <th>431</th>\n",
       "      <td>-0.667068</td>\n",
       "      <td>-0.684137</td>\n",
       "    </tr>\n",
       "    <tr>\n",
       "      <th>425</th>\n",
       "      <td>0.109090</td>\n",
       "      <td>0.127142</td>\n",
       "    </tr>\n",
       "    <tr>\n",
       "      <th>528</th>\n",
       "      <td>0.967207</td>\n",
       "      <td>0.962853</td>\n",
       "    </tr>\n",
       "    <tr>\n",
       "      <th>880</th>\n",
       "      <td>0.161962</td>\n",
       "      <td>0.180294</td>\n",
       "    </tr>\n",
       "    <tr>\n",
       "      <th>434</th>\n",
       "      <td>-0.266546</td>\n",
       "      <td>-0.285919</td>\n",
       "    </tr>\n",
       "  </tbody>\n",
       "</table>\n",
       "</div>"
      ],
      "text/plain": [
       "         err1      err2\n",
       "431 -0.667068 -0.684137\n",
       "425  0.109090  0.127142\n",
       "528  0.967207  0.962853\n",
       "880  0.161962  0.180294\n",
       "434 -0.266546 -0.285919"
      ]
     },
     "execution_count": 8,
     "metadata": {},
     "output_type": "execute_result"
    }
   ],
   "source": [
    "rmodels = pd.read_table(\"rmodels.txt\")\n",
    "rmodels.sample(5)"
   ]
  },
  {
   "cell_type": "markdown",
   "metadata": {
    "id": "-vZ6BzxkWUvd"
   },
   "source": [
    "1. Сравните распределения двух выборок. Можно ли сказать что одна из моделей регрессий работает лучше?"
   ]
  },
  {
   "cell_type": "code",
   "execution_count": null,
   "metadata": {
    "id": "EyyqMqy0WUvd"
   },
   "outputs": [],
   "source": []
  },
  {
   "cell_type": "markdown",
   "metadata": {
    "id": "aqb7PW5CPIK6"
   },
   "source": [
    "***Выводы о работе регрессий:***\n",
    "  ᕕ༼ ⌐■-■༽ᕗ\n"
   ]
  },
  {
   "cell_type": "markdown",
   "metadata": {
    "id": "T17GerCEWUve"
   },
   "source": [
    "2. Реализуйте процедуру перестановочного критерия для НЕзависимых выборок для точности порядка $10^{-4}$. Cравните получившееся p-value с таковым для $t$-критерия и для критерия Манна-Уитни `mannwhitneyu`."
   ]
  },
  {
   "cell_type": "code",
   "execution_count": null,
   "metadata": {
    "id": "Fzr8NA4zWUve"
   },
   "outputs": [],
   "source": []
  },
  {
   "cell_type": "markdown",
   "metadata": {
    "id": "ujrwqjuCPdki"
   },
   "source": [
    "Выводы после сравнения: "
   ]
  },
  {
   "cell_type": "markdown",
   "metadata": {
    "id": "z85rhyY2WUve"
   },
   "source": [
    "3. Реализуйте процедуру перестановочного критерия для зависимых выборок для точности порядка $10^{-4}$. Cравните получившееся p-value с таковым для $t$-критерия и для критерия Уилкоксона `wilcoxon`. Не забудьте, что вам в данном случае каждый из критериев нужно вызвать с параметрами, соответствующими связанным выборкам."
   ]
  },
  {
   "cell_type": "code",
   "execution_count": null,
   "metadata": {
    "id": "B0t3fK0uPwuf"
   },
   "outputs": [],
   "source": []
  },
  {
   "cell_type": "markdown",
   "metadata": {
    "id": "XtdcoD8kWUve"
   },
   "source": [
    "**Выводы:**\n",
    "\n",
    "\n",
    "```\n",
    "               .=.,\n",
    "              ;c =\\\n",
    "            __|  _/\n",
    "          .'-'-._/-'-._\n",
    "         /..   ____    \\\n",
    "        /' _  [<_->] )  \\\n",
    "       (  / \\--\\_>/-/'._ )\n",
    "        \\-;_/\\__;__/ _/ _/\n",
    "         '._}|==o==\\{_\\/\n",
    "          /  /-._.--\\  \\_\n",
    "         // /   /|   \\ \\ \\\n",
    "        / | |   | \\;  |  \\ \\\n",
    "       / /  | :/   \\: \\   \\_\\\n",
    "      /  |  /.'|   /: |    \\ \\\n",
    "      |  |  |--| . |--|     \\_\\\n",
    "      / _/   \\ | : | /___--._) \\\n",
    "     |_(---'-| >-'-| |       '-'\n",
    "            /_/     \\_\\\n",
    "```\n",
    "\n"
   ]
  },
  {
   "cell_type": "markdown",
   "metadata": {
    "id": "JRUXHQyYWUva"
   },
   "source": [
    "### Задача 4"
   ]
  },
  {
   "cell_type": "markdown",
   "metadata": {
    "id": "TT5ciFkocCmr"
   },
   "source": [
    "Имеются данные о продажной стоимости недвижимости в Сиэтле для 50 сделок в 2001 году и 50 в 2002.\n",
    "Нужно проанализировать данные и ответить на вопрос, изменились ли цены на недвижимость."
   ]
  },
  {
   "cell_type": "code",
   "execution_count": 9,
   "metadata": {
    "id": "fiSl9hA2cCmr"
   },
   "outputs": [],
   "source": [
    "data = pd.read_table(\"seattle.txt\")\n",
    "x1 = data[data[\"Year\"] == 2001][\"Price\"].values\n",
    "x2 = data[data[\"Year\"] == 2002][\"Price\"].values"
   ]
  },
  {
   "cell_type": "markdown",
   "metadata": {
    "id": "VOL5aejOWUvb"
   },
   "source": [
    "1. Выведите основную информацию о распределении данных о продаже недвижимости за 2001 и 2002 год. Для этого проиллюстрируйте функцию плотности вероятности для каждого года, а также воспользуйтесь boxplot. Попробуйте сравнить две выборки при помощи теста Колмогорова-Смирнова для двух выборок (`ks_2samp` из библиотеки `scipy`). Какие выводы можно сделать на основе сравнения информации о двух распределениях?"
   ]
  },
  {
   "cell_type": "code",
   "execution_count": null,
   "metadata": {
    "id": "Grr6N-gjWUvb"
   },
   "outputs": [],
   "source": []
  },
  {
   "cell_type": "markdown",
   "metadata": {
    "id": "xNHkc1rsE6A8"
   },
   "source": [
    "***Выводы по графикам:*** ಠ_ರೃ"
   ]
  },
  {
   "cell_type": "markdown",
   "metadata": {
    "id": "ynPiM7KdWUvb"
   },
   "source": [
    "2. Проверьте на нормальность данные за каждый год по отдельности и в целом за два года. Для этого воспользуйтесь тестами Колмогорова-Смирнова `kstest(x, 'norm')` и Шапиро-Уилка `shapiro(x)` из библиотеки `scipy`, а также постройте qqplot. Какие выводы о нормальности данных можно сделать?"
   ]
  },
  {
   "cell_type": "code",
   "execution_count": null,
   "metadata": {
    "id": "6Smdd7adWUvc"
   },
   "outputs": [],
   "source": []
  },
  {
   "cell_type": "markdown",
   "metadata": {
    "id": "ZGt2evOOFIUZ"
   },
   "source": [
    "***Выводы о нормальности:*** ┏(‘▀_▀’)ノ♬♪"
   ]
  },
  {
   "cell_type": "markdown",
   "metadata": {
    "id": "r_2XFabJWUvc"
   },
   "source": [
    "3. Постройте точечную оценку и доверительный интервал для средних значений в обеих выборках, а также оценки для разницы средних по обеим выборкам. Для этого вам понадобится `bootstrap` из `bootstrapped.bootstrap`."
   ]
  },
  {
   "cell_type": "code",
   "execution_count": null,
   "metadata": {
    "id": "ievbUq1zWUvc"
   },
   "outputs": [],
   "source": []
  },
  {
   "cell_type": "markdown",
   "metadata": {
    "id": "2IU8yO-PWUvc"
   },
   "source": [
    "**Выводы о результатах в целом:** :)"
   ]
  },
  {
   "cell_type": "markdown",
   "metadata": {
    "id": "olHbRicBLIU-"
   },
   "source": [
    "4. Творческое задание. Представьте, что Вы занимаетесь анализом недвижимости и Вам нужно проанализировать рынок на основе расширенного датасета с недвижимостью из Сиэтла:\n",
    "https://www.kaggle.com/harlfoxem/housesalesprediction\n",
    "Попробуйте проанализировать эти данные, воспользовавшись известными Вами статистическими методами (исключая методы машинного обучения!). Какие статистики Вы бы посчитали в первую очередь? Какая информация, по Вашему мнению, наиболее полезна? Попробуйте построить 2-3 графика, которые помогли бы, по-Вашему мнению, получить полезную информацию о рынке недвижимости."
   ]
  },
  {
   "cell_type": "code",
   "execution_count": null,
   "metadata": {
    "id": "7BxckH_vN1B6"
   },
   "outputs": [],
   "source": [
    "# your great code here"
   ]
  },
  {
   "cell_type": "markdown",
   "metadata": {
    "id": "5ExzPCwxQOaW"
   },
   "source": [
    "Выводы по анализу датасета:\n",
    "\n",
    "\n",
    "\n",
    "```\n",
    "⠀⠀⠀⠀⠀⠀⠀⠀⠀⣀⣤⣤⣄⣀⠀⠀⠀⠀⠀⠀⠀⠀⠀⠀\n",
    "⠀⠀⠀⠀⠀⠀⣠⣾⣿⣿⣿⣿⣿⣿⣿⣿⣿⣦⣀⠀⠀⠀⠀⠀\n",
    "⠀⠀⠀⠀⣰⣿⣿⣿⣿⠿⠿⣿⣿⣿⣿⣿⣿⣿⣧⢀⠀⠀⠀⠀\n",
    "⠀⠀⠀⣿⣿⣿⠋⠀⠀⠀⠀⠀⠙⠀⠙⣿⣿⣿⣷⢳⢀⠀⠀⠀\n",
    "⠀⠀⣠⣿⣿⣿⢸⠀⠀⠀⠀⠀⠀⠀⠀⠀⠀⣿⣿⣿⣿⣿⢀\n",
    "⠀⠀⣸⣿⣿⣿⠸⠀⠀⠀⠒⠒⠒⠐⠀⠀⢿⣿⣿⣿⣿⣿⠀⠀\n",
    "⠀⣴⣿⣿⣿⡿⠀⠒⣋⣙⡒⢰⠀⠤⣖⠒⢾⣿⣿⣿⣿⣧⠀⠀\n",
    "⢺⣿⣿⣿⣿⢀⠀⠀⠉⠉⠉⠸⠀⡇⠉⠉⠀⢿⣿⣿⣿⣄⠀⠀\n",
    "⠀⠙⣿⣿⣧⢻⠀⠀⠀⠀⠀⠠⠀⠰⠀⠀⠀⣸⠸⣿⣿⠿⠰⠀\n",
    "⠀⠀⠀⠹⣿⣿⣿⣷⠀⡠⠙⣲⣔⣅⢡⣰⣷⣿⣿⣿⣧⠀⠀⠀\n",
    "⠀⠀⠀⣼⣿⣿⣿⣿⠀⡿⠭⠭⠭⠭⢿⠀⣿⢻⣿⣿⠃⠀⠀⠀\n",
    "⠀⠀⠀⠙⠛⣿⢻⠹⣿⠐⠙⠛⠟⠉⢀⣴⡟⢿⣿⡏⠀⠀⠀⠀\n",
    "⠀⠀⠀⠀⠀⠀⡟⠀⠀⠻⣦⣤⣶⠾⠋⠀⠀⠁⡦⢄⢀⠀⠀⠀\n",
    "⠀⠀⠀⠀⡠⠁⡇⠑⢄⠀⠀⠀⠀⠀⠀⠔⠀⠀⠁⠀⠀⠀⠉⠁\n",
    "⠀⠔⠊⠁⠀⠀⣇⠀⠀⠀⠑⡤⠤⢎⠁⠀⠀⡘⠀⠀⠀⠀⠀⠀\n",
    "⠀⠀⠀⠀⠀⠀⢢⠠⠀⡠⢆⠀⠀⡠⠙⢄⠀⡸⠀⠀⠀⠀⠀⠀\n",
    "```\n",
    "\n"
   ]
  }
 ],
 "metadata": {
  "colab": {
   "collapsed_sections": [],
   "name": "Task2.ipynb",
   "provenance": []
  },
  "kernelspec": {
   "display_name": "Python 3",
   "language": "python",
   "name": "python3"
  },
  "language_info": {
   "codemirror_mode": {
    "name": "ipython",
    "version": 3
   },
   "file_extension": ".py",
   "mimetype": "text/x-python",
   "name": "python",
   "nbconvert_exporter": "python",
   "pygments_lexer": "ipython3",
   "version": "3.8.3"
  }
 },
 "nbformat": 4,
 "nbformat_minor": 1
}
